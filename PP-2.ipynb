{
 "cells": [
  {
   "cell_type": "markdown",
   "id": "beee2a5e",
   "metadata": {},
   "source": [
    "# MEDICAL COST PERSONAL INSURANCE DATASETS"
   ]
  },
  {
   "cell_type": "markdown",
   "id": "cd5f4c65",
   "metadata": {},
   "source": [
    "Health insurance covers cost of an insured individual's medical and surgical expenses. Subject to the terms of insurance coverage, either the insured pays costs out-of-pocket and is subsequently reimbursed or the insurance company reimburses costs directly.\n",
    "What is Health Insurance?\n",
    "Health insurance is an insurance product which covers medical and surgical expenses of an insured individual. It reimburses the expenses incurred due to illness or injury or pays the care provider of the insured individual directly.\n",
    "\n",
    "Types of Health Insurance: \n",
    "\n",
    "Every individual is different and has a unique set of needs. A single health insurance product is not enough to cover every person's individual requirements. This is precisely where there are a number of different types of health insurance plans available. Let's take a look at what they are:\n",
    "\n",
    "1. Individual Health Insurance- \n",
    "You can purchase an individual health insurance policy to provide cover for yourself, your spouse, your children and your parents. These policies typically cover all kinds of medical expenses, including hospitalisation, daycare procedures, hospital room rent and more. Under an individual health insurance plan, each member has their own sum insured amount. So, let's say you've taken an individual plan for yourself, your spouse and both your parents with a sum insured of INR 8 lakhs. Each of you will be able to claim a maximum amount of 8 lakhs per policy year against your health insurance.\n",
    "\n",
    "2. Family Floater Health Insurance- \n",
    "A family floater plan allows you to cover your family members under a single policy and everybody shares the sum insured amount. These plans are typically more affordable than individual plans since the sum insured is shared. Let's say you purchase a family floater plan for you and your spouse with a sum insured of INR 8 lakhs. In a single policy year, you can make claims worth only INR 8 lakhs. Your spouse may make claims worth INR 6 lakhs and you could make claims worth INR 2 lakhs or vice-versa. Typically, family floater plans are ideal for young nuclear families.\n",
    "\n",
    "3. Senior Citizens Health Insurance- \n",
    "These health plans have been designed specifically keeping the medical needs and requirements of senior citizens in mind. Most senior citizens policies offer additional cover, such as domiciliary hospitalisation and even some psychiatric benefits. Since older citizens are more likely to have health issues, these policies may require a full medical check-up beforehand and could be more expensive than regular insurance policies.\n",
    "\n",
    "4. Critical Illness Insurance- \n",
    "There are a number of lifestyle-related diseases that are on the rise. Health issues such as cancer, stroke, kidney failure and cardiac diseases can be very expensive to deal with and manage long-term. This is precisely why critical illness insurance policies have been created. They can either be purchased as a rider or add-on with your regular health insurance plan or separately as their own plan. These policies offer cover for very specific issues and often provide claim payouts as a single lump sum payment after the diagnosis of a critical illness.\n",
    "\n",
    "5. Group Health Insurance- \n",
    "Unlike individual and family floater policies, group health insurance plans can be purchased by a group manager for a large number of individuals. For example, an employer can purchase group insurance for all their employees or a building secretary may purchase such a plan for all the residents of the building. These plans are fairly affordable, but they often only provide cover for basic health issues. Employers often purchase these plans as an additional benefit for employees.\n",
    "\n",
    "Benefits of Health Insurance:\n",
    "\n",
    "Purchasing health insurance is crucial for a number of reasons. Let's take a look at the most important benefits of our health insurance policies:\n",
    "\n",
    "1. Helps Deal with Rising Medical Costs- \n",
    "People purchase health insurance policies to safeguard their finances against ever-rising medical costs. An accident or medical emergency could end up costing you more than a few thousand rupees. With a medical insurance plan, you enjoy cover for everything from ambulance charges to daycare procedures, making it easier for you to get the care you need to recover.\n",
    "\n",
    "2. Critical Illness Cover- \n",
    "Many health insurance policies will also offer cover for critical illnesses at an additional cost. Given the rising incidence of lifestyle-related diseases today, this is another crucial cover to have. You will be provided with a lump sum payout in case you are diagnosed with any of the covered critical illnesses. These issues are often very expensive to deal with and manage, so critical illness cover is another vital benefit of having health insurance.\n",
    "\n",
    "3. Easy Cashless Claims- \n",
    "Every health insurance provider will tie-up with a number of network hospitals where you can enjoy cashless claims. This makes the entire process of receiving emergency medical care much easier. At a network hospital, you aren't really required to pay for any of the covered treatments. For all valid claims, we'll take care of the medical costs, without you having to pay for anything, except non-covered expenses and the mandatory deductibles.\n",
    "\n",
    "4. Added Protection- \n",
    "If you enjoy cover under a group health insurance plan, you may wonder why you should purchase your own health insurance policy. Well, individual health insurance plans offer provider more and better cover than group plans. Additionally, if you happen to leave the group at any time, you risk losing the cover, which could make you and your finances vulnerable.\n",
    "\n",
    "5. Tax Savings- \n",
    "Under Section 80D of the Income Tax Act, 1961, premiums paid towards the upkeep of health insurance policies are eligible for tax deductions. For a policy for yourself, your spouse, your children and parents below the age of 60, you can claim a deduction of up to INR 25,000 per year from your taxable income. If you've also purchased a policy for a parent who is over the age of 60, you can claim an additional deduction of INR 50,000.\n"
   ]
  },
  {
   "cell_type": "markdown",
   "id": "ef875694",
   "metadata": {},
   "source": [
    "How Health Insurance Works?\n",
    "\n",
    "Like every kind of insurance policy, health insurance also helps you deal with the financial repercussions of an accident or emergency. Let's take a look at how health insurance actually works. The process starts when you apply to purchase a plan. Depending on your age, medical background, sum insured required and the type of plan youve selected, you will be provided with premium quotes. In some cases, you might be asked to do a few medical tests before the insurance provider decides whether they'd like to provide you with the required cover. Once the terms and conditions are finalised, you will be provided with a policy. Each policy comes with a few waiting periods. The initial waiting period is only for a few weeks or a month. During this time, you will not be able to make any non-emergency claims. Let's say that you require some kind of surgery after the waiting period. If you're able to get the treatment in a network hospital, you can let us know about the surgery, and we'll get in touch with the hospital directly to settle all the payments. When you're discharged from the hospital, you will only have to pay for additional expenses that are not covered and the voluntary co-pay amount, if any. If you're getting treatment in a non-network hospital, you can make all the payments and then file for a reimbursement claim. Either way, you can get the treatment you require without fretting about burning a hole through your pocket."
   ]
  },
  {
   "cell_type": "markdown",
   "id": "52f0a532",
   "metadata": {},
   "source": [
    "Problem Statement-\n",
    "\n",
    "Health insurance is a type of insurance that covers medical expenses that arise due to an illness. These expenses could be related to hospitalisation costs, cost of medicines or doctor consultation fees. The main purpose of medical insurance is to receive the best medical care without any strain on your finances. Health insurance plans offer protection against high medical costs. It covers hospitalization expenses, day care procedures, domiciliary expenses, and ambulance charges, besides many others. Based on certain input features such as age , bmi,,no of dependents ,smoker ,region  medical insurance is calculated .\n",
    "\n",
    "Columns-\n",
    "\n",
    "·age: age of primary beneficiary\n",
    "\n",
    "·sex: insurance contractor gender, female, male\n",
    "\n",
    "·bmi: Body mass index, providing an understanding of body, weights that are relatively high or low relative to height, objective index of body weight (kg / m ^ 2) using the ratio of height to weight, ideally 18.5 to 24.9.\n",
    "\n",
    "·children: Number of children covered by health insurance / Number of dependents\n",
    "\n",
    "·smoker: Smoking\n",
    "\n",
    "·region: the beneficiary's residential area in the US, northeast, southeast, southwest, northwest.\n",
    "\n",
    "·charges: Individual medical costs billed by health insurance."
   ]
  },
  {
   "cell_type": "markdown",
   "id": "c01123dd",
   "metadata": {},
   "source": [
    "In the above problem statement the target is to predict the 'charges' paid by the customer."
   ]
  },
  {
   "cell_type": "code",
   "execution_count": 1,
   "id": "351bcf53",
   "metadata": {},
   "outputs": [],
   "source": [
    "import pandas as pd\n",
    "import warnings\n",
    "warnings.filterwarnings('ignore')"
   ]
  },
  {
   "cell_type": "code",
   "execution_count": 2,
   "id": "696b84cd",
   "metadata": {},
   "outputs": [
    {
     "data": {
      "text/html": [
       "<div>\n",
       "<style scoped>\n",
       "    .dataframe tbody tr th:only-of-type {\n",
       "        vertical-align: middle;\n",
       "    }\n",
       "\n",
       "    .dataframe tbody tr th {\n",
       "        vertical-align: top;\n",
       "    }\n",
       "\n",
       "    .dataframe thead th {\n",
       "        text-align: right;\n",
       "    }\n",
       "</style>\n",
       "<table border=\"1\" class=\"dataframe\">\n",
       "  <thead>\n",
       "    <tr style=\"text-align: right;\">\n",
       "      <th></th>\n",
       "      <th>age</th>\n",
       "      <th>sex</th>\n",
       "      <th>bmi</th>\n",
       "      <th>children</th>\n",
       "      <th>smoker</th>\n",
       "      <th>region</th>\n",
       "      <th>charges</th>\n",
       "    </tr>\n",
       "  </thead>\n",
       "  <tbody>\n",
       "    <tr>\n",
       "      <th>0</th>\n",
       "      <td>19</td>\n",
       "      <td>female</td>\n",
       "      <td>27.900</td>\n",
       "      <td>0</td>\n",
       "      <td>yes</td>\n",
       "      <td>southwest</td>\n",
       "      <td>16884.92400</td>\n",
       "    </tr>\n",
       "    <tr>\n",
       "      <th>1</th>\n",
       "      <td>18</td>\n",
       "      <td>male</td>\n",
       "      <td>33.770</td>\n",
       "      <td>1</td>\n",
       "      <td>no</td>\n",
       "      <td>southeast</td>\n",
       "      <td>1725.55230</td>\n",
       "    </tr>\n",
       "    <tr>\n",
       "      <th>2</th>\n",
       "      <td>28</td>\n",
       "      <td>male</td>\n",
       "      <td>33.000</td>\n",
       "      <td>3</td>\n",
       "      <td>no</td>\n",
       "      <td>southeast</td>\n",
       "      <td>4449.46200</td>\n",
       "    </tr>\n",
       "    <tr>\n",
       "      <th>3</th>\n",
       "      <td>33</td>\n",
       "      <td>male</td>\n",
       "      <td>22.705</td>\n",
       "      <td>0</td>\n",
       "      <td>no</td>\n",
       "      <td>northwest</td>\n",
       "      <td>21984.47061</td>\n",
       "    </tr>\n",
       "    <tr>\n",
       "      <th>4</th>\n",
       "      <td>32</td>\n",
       "      <td>male</td>\n",
       "      <td>28.880</td>\n",
       "      <td>0</td>\n",
       "      <td>no</td>\n",
       "      <td>northwest</td>\n",
       "      <td>3866.85520</td>\n",
       "    </tr>\n",
       "    <tr>\n",
       "      <th>...</th>\n",
       "      <td>...</td>\n",
       "      <td>...</td>\n",
       "      <td>...</td>\n",
       "      <td>...</td>\n",
       "      <td>...</td>\n",
       "      <td>...</td>\n",
       "      <td>...</td>\n",
       "    </tr>\n",
       "    <tr>\n",
       "      <th>1333</th>\n",
       "      <td>50</td>\n",
       "      <td>male</td>\n",
       "      <td>30.970</td>\n",
       "      <td>3</td>\n",
       "      <td>no</td>\n",
       "      <td>northwest</td>\n",
       "      <td>10600.54830</td>\n",
       "    </tr>\n",
       "    <tr>\n",
       "      <th>1334</th>\n",
       "      <td>18</td>\n",
       "      <td>female</td>\n",
       "      <td>31.920</td>\n",
       "      <td>0</td>\n",
       "      <td>no</td>\n",
       "      <td>northeast</td>\n",
       "      <td>2205.98080</td>\n",
       "    </tr>\n",
       "    <tr>\n",
       "      <th>1335</th>\n",
       "      <td>18</td>\n",
       "      <td>female</td>\n",
       "      <td>36.850</td>\n",
       "      <td>0</td>\n",
       "      <td>no</td>\n",
       "      <td>southeast</td>\n",
       "      <td>1629.83350</td>\n",
       "    </tr>\n",
       "    <tr>\n",
       "      <th>1336</th>\n",
       "      <td>21</td>\n",
       "      <td>female</td>\n",
       "      <td>25.800</td>\n",
       "      <td>0</td>\n",
       "      <td>no</td>\n",
       "      <td>southwest</td>\n",
       "      <td>2007.94500</td>\n",
       "    </tr>\n",
       "    <tr>\n",
       "      <th>1337</th>\n",
       "      <td>61</td>\n",
       "      <td>female</td>\n",
       "      <td>29.070</td>\n",
       "      <td>0</td>\n",
       "      <td>yes</td>\n",
       "      <td>northwest</td>\n",
       "      <td>29141.36030</td>\n",
       "    </tr>\n",
       "  </tbody>\n",
       "</table>\n",
       "<p>1338 rows × 7 columns</p>\n",
       "</div>"
      ],
      "text/plain": [
       "      age     sex     bmi  children smoker     region      charges\n",
       "0      19  female  27.900         0    yes  southwest  16884.92400\n",
       "1      18    male  33.770         1     no  southeast   1725.55230\n",
       "2      28    male  33.000         3     no  southeast   4449.46200\n",
       "3      33    male  22.705         0     no  northwest  21984.47061\n",
       "4      32    male  28.880         0     no  northwest   3866.85520\n",
       "...   ...     ...     ...       ...    ...        ...          ...\n",
       "1333   50    male  30.970         3     no  northwest  10600.54830\n",
       "1334   18  female  31.920         0     no  northeast   2205.98080\n",
       "1335   18  female  36.850         0     no  southeast   1629.83350\n",
       "1336   21  female  25.800         0     no  southwest   2007.94500\n",
       "1337   61  female  29.070         0    yes  northwest  29141.36030\n",
       "\n",
       "[1338 rows x 7 columns]"
      ]
     },
     "execution_count": 2,
     "metadata": {},
     "output_type": "execute_result"
    }
   ],
   "source": [
    "df=pd.read_csv('medical_cost_insurance.csv')\n",
    "df"
   ]
  },
  {
   "cell_type": "markdown",
   "id": "a8358244",
   "metadata": {},
   "source": [
    "Checking the datatypes of the columns-"
   ]
  },
  {
   "cell_type": "code",
   "execution_count": 3,
   "id": "ed22c19b",
   "metadata": {},
   "outputs": [
    {
     "data": {
      "text/plain": [
       "age           int64\n",
       "sex          object\n",
       "bmi         float64\n",
       "children      int64\n",
       "smoker       object\n",
       "region       object\n",
       "charges     float64\n",
       "dtype: object"
      ]
     },
     "execution_count": 3,
     "metadata": {},
     "output_type": "execute_result"
    }
   ],
   "source": [
    "df.dtypes"
   ]
  },
  {
   "cell_type": "code",
   "execution_count": 4,
   "id": "59196611",
   "metadata": {},
   "outputs": [
    {
     "data": {
      "text/plain": [
       "Index(['age', 'sex', 'bmi', 'children', 'smoker', 'region', 'charges'], dtype='object')"
      ]
     },
     "execution_count": 4,
     "metadata": {},
     "output_type": "execute_result"
    }
   ],
   "source": [
    "df.columns"
   ]
  },
  {
   "cell_type": "code",
   "execution_count": 5,
   "id": "cff6ac6a",
   "metadata": {},
   "outputs": [
    {
     "data": {
      "text/html": [
       "<div>\n",
       "<style scoped>\n",
       "    .dataframe tbody tr th:only-of-type {\n",
       "        vertical-align: middle;\n",
       "    }\n",
       "\n",
       "    .dataframe tbody tr th {\n",
       "        vertical-align: top;\n",
       "    }\n",
       "\n",
       "    .dataframe thead th {\n",
       "        text-align: right;\n",
       "    }\n",
       "</style>\n",
       "<table border=\"1\" class=\"dataframe\">\n",
       "  <thead>\n",
       "    <tr style=\"text-align: right;\">\n",
       "      <th></th>\n",
       "      <th>age</th>\n",
       "      <th>sex</th>\n",
       "      <th>bmi</th>\n",
       "      <th>children</th>\n",
       "      <th>smoker</th>\n",
       "      <th>region</th>\n",
       "      <th>charges</th>\n",
       "    </tr>\n",
       "  </thead>\n",
       "  <tbody>\n",
       "    <tr>\n",
       "      <th>0</th>\n",
       "      <td>19</td>\n",
       "      <td>female</td>\n",
       "      <td>27.900</td>\n",
       "      <td>0</td>\n",
       "      <td>yes</td>\n",
       "      <td>southwest</td>\n",
       "      <td>16884.92400</td>\n",
       "    </tr>\n",
       "    <tr>\n",
       "      <th>1</th>\n",
       "      <td>18</td>\n",
       "      <td>male</td>\n",
       "      <td>33.770</td>\n",
       "      <td>1</td>\n",
       "      <td>no</td>\n",
       "      <td>southeast</td>\n",
       "      <td>1725.55230</td>\n",
       "    </tr>\n",
       "    <tr>\n",
       "      <th>2</th>\n",
       "      <td>28</td>\n",
       "      <td>male</td>\n",
       "      <td>33.000</td>\n",
       "      <td>3</td>\n",
       "      <td>no</td>\n",
       "      <td>southeast</td>\n",
       "      <td>4449.46200</td>\n",
       "    </tr>\n",
       "    <tr>\n",
       "      <th>3</th>\n",
       "      <td>33</td>\n",
       "      <td>male</td>\n",
       "      <td>22.705</td>\n",
       "      <td>0</td>\n",
       "      <td>no</td>\n",
       "      <td>northwest</td>\n",
       "      <td>21984.47061</td>\n",
       "    </tr>\n",
       "    <tr>\n",
       "      <th>4</th>\n",
       "      <td>32</td>\n",
       "      <td>male</td>\n",
       "      <td>28.880</td>\n",
       "      <td>0</td>\n",
       "      <td>no</td>\n",
       "      <td>northwest</td>\n",
       "      <td>3866.85520</td>\n",
       "    </tr>\n",
       "    <tr>\n",
       "      <th>5</th>\n",
       "      <td>31</td>\n",
       "      <td>female</td>\n",
       "      <td>25.740</td>\n",
       "      <td>0</td>\n",
       "      <td>no</td>\n",
       "      <td>southeast</td>\n",
       "      <td>3756.62160</td>\n",
       "    </tr>\n",
       "    <tr>\n",
       "      <th>6</th>\n",
       "      <td>46</td>\n",
       "      <td>female</td>\n",
       "      <td>33.440</td>\n",
       "      <td>1</td>\n",
       "      <td>no</td>\n",
       "      <td>southeast</td>\n",
       "      <td>8240.58960</td>\n",
       "    </tr>\n",
       "    <tr>\n",
       "      <th>7</th>\n",
       "      <td>37</td>\n",
       "      <td>female</td>\n",
       "      <td>27.740</td>\n",
       "      <td>3</td>\n",
       "      <td>no</td>\n",
       "      <td>northwest</td>\n",
       "      <td>7281.50560</td>\n",
       "    </tr>\n",
       "    <tr>\n",
       "      <th>8</th>\n",
       "      <td>37</td>\n",
       "      <td>male</td>\n",
       "      <td>29.830</td>\n",
       "      <td>2</td>\n",
       "      <td>no</td>\n",
       "      <td>northeast</td>\n",
       "      <td>6406.41070</td>\n",
       "    </tr>\n",
       "    <tr>\n",
       "      <th>9</th>\n",
       "      <td>60</td>\n",
       "      <td>female</td>\n",
       "      <td>25.840</td>\n",
       "      <td>0</td>\n",
       "      <td>no</td>\n",
       "      <td>northwest</td>\n",
       "      <td>28923.13692</td>\n",
       "    </tr>\n",
       "  </tbody>\n",
       "</table>\n",
       "</div>"
      ],
      "text/plain": [
       "   age     sex     bmi  children smoker     region      charges\n",
       "0   19  female  27.900         0    yes  southwest  16884.92400\n",
       "1   18    male  33.770         1     no  southeast   1725.55230\n",
       "2   28    male  33.000         3     no  southeast   4449.46200\n",
       "3   33    male  22.705         0     no  northwest  21984.47061\n",
       "4   32    male  28.880         0     no  northwest   3866.85520\n",
       "5   31  female  25.740         0     no  southeast   3756.62160\n",
       "6   46  female  33.440         1     no  southeast   8240.58960\n",
       "7   37  female  27.740         3     no  northwest   7281.50560\n",
       "8   37    male  29.830         2     no  northeast   6406.41070\n",
       "9   60  female  25.840         0     no  northwest  28923.13692"
      ]
     },
     "execution_count": 5,
     "metadata": {},
     "output_type": "execute_result"
    }
   ],
   "source": [
    "df.head(10)"
   ]
  },
  {
   "cell_type": "code",
   "execution_count": 6,
   "id": "ff3a93ae",
   "metadata": {},
   "outputs": [
    {
     "data": {
      "text/html": [
       "<div>\n",
       "<style scoped>\n",
       "    .dataframe tbody tr th:only-of-type {\n",
       "        vertical-align: middle;\n",
       "    }\n",
       "\n",
       "    .dataframe tbody tr th {\n",
       "        vertical-align: top;\n",
       "    }\n",
       "\n",
       "    .dataframe thead th {\n",
       "        text-align: right;\n",
       "    }\n",
       "</style>\n",
       "<table border=\"1\" class=\"dataframe\">\n",
       "  <thead>\n",
       "    <tr style=\"text-align: right;\">\n",
       "      <th></th>\n",
       "      <th>age</th>\n",
       "      <th>sex</th>\n",
       "      <th>bmi</th>\n",
       "      <th>children</th>\n",
       "      <th>smoker</th>\n",
       "      <th>region</th>\n",
       "      <th>charges</th>\n",
       "    </tr>\n",
       "  </thead>\n",
       "  <tbody>\n",
       "    <tr>\n",
       "      <th>1328</th>\n",
       "      <td>23</td>\n",
       "      <td>female</td>\n",
       "      <td>24.225</td>\n",
       "      <td>2</td>\n",
       "      <td>no</td>\n",
       "      <td>northeast</td>\n",
       "      <td>22395.74424</td>\n",
       "    </tr>\n",
       "    <tr>\n",
       "      <th>1329</th>\n",
       "      <td>52</td>\n",
       "      <td>male</td>\n",
       "      <td>38.600</td>\n",
       "      <td>2</td>\n",
       "      <td>no</td>\n",
       "      <td>southwest</td>\n",
       "      <td>10325.20600</td>\n",
       "    </tr>\n",
       "    <tr>\n",
       "      <th>1330</th>\n",
       "      <td>57</td>\n",
       "      <td>female</td>\n",
       "      <td>25.740</td>\n",
       "      <td>2</td>\n",
       "      <td>no</td>\n",
       "      <td>southeast</td>\n",
       "      <td>12629.16560</td>\n",
       "    </tr>\n",
       "    <tr>\n",
       "      <th>1331</th>\n",
       "      <td>23</td>\n",
       "      <td>female</td>\n",
       "      <td>33.400</td>\n",
       "      <td>0</td>\n",
       "      <td>no</td>\n",
       "      <td>southwest</td>\n",
       "      <td>10795.93733</td>\n",
       "    </tr>\n",
       "    <tr>\n",
       "      <th>1332</th>\n",
       "      <td>52</td>\n",
       "      <td>female</td>\n",
       "      <td>44.700</td>\n",
       "      <td>3</td>\n",
       "      <td>no</td>\n",
       "      <td>southwest</td>\n",
       "      <td>11411.68500</td>\n",
       "    </tr>\n",
       "    <tr>\n",
       "      <th>1333</th>\n",
       "      <td>50</td>\n",
       "      <td>male</td>\n",
       "      <td>30.970</td>\n",
       "      <td>3</td>\n",
       "      <td>no</td>\n",
       "      <td>northwest</td>\n",
       "      <td>10600.54830</td>\n",
       "    </tr>\n",
       "    <tr>\n",
       "      <th>1334</th>\n",
       "      <td>18</td>\n",
       "      <td>female</td>\n",
       "      <td>31.920</td>\n",
       "      <td>0</td>\n",
       "      <td>no</td>\n",
       "      <td>northeast</td>\n",
       "      <td>2205.98080</td>\n",
       "    </tr>\n",
       "    <tr>\n",
       "      <th>1335</th>\n",
       "      <td>18</td>\n",
       "      <td>female</td>\n",
       "      <td>36.850</td>\n",
       "      <td>0</td>\n",
       "      <td>no</td>\n",
       "      <td>southeast</td>\n",
       "      <td>1629.83350</td>\n",
       "    </tr>\n",
       "    <tr>\n",
       "      <th>1336</th>\n",
       "      <td>21</td>\n",
       "      <td>female</td>\n",
       "      <td>25.800</td>\n",
       "      <td>0</td>\n",
       "      <td>no</td>\n",
       "      <td>southwest</td>\n",
       "      <td>2007.94500</td>\n",
       "    </tr>\n",
       "    <tr>\n",
       "      <th>1337</th>\n",
       "      <td>61</td>\n",
       "      <td>female</td>\n",
       "      <td>29.070</td>\n",
       "      <td>0</td>\n",
       "      <td>yes</td>\n",
       "      <td>northwest</td>\n",
       "      <td>29141.36030</td>\n",
       "    </tr>\n",
       "  </tbody>\n",
       "</table>\n",
       "</div>"
      ],
      "text/plain": [
       "      age     sex     bmi  children smoker     region      charges\n",
       "1328   23  female  24.225         2     no  northeast  22395.74424\n",
       "1329   52    male  38.600         2     no  southwest  10325.20600\n",
       "1330   57  female  25.740         2     no  southeast  12629.16560\n",
       "1331   23  female  33.400         0     no  southwest  10795.93733\n",
       "1332   52  female  44.700         3     no  southwest  11411.68500\n",
       "1333   50    male  30.970         3     no  northwest  10600.54830\n",
       "1334   18  female  31.920         0     no  northeast   2205.98080\n",
       "1335   18  female  36.850         0     no  southeast   1629.83350\n",
       "1336   21  female  25.800         0     no  southwest   2007.94500\n",
       "1337   61  female  29.070         0    yes  northwest  29141.36030"
      ]
     },
     "execution_count": 6,
     "metadata": {},
     "output_type": "execute_result"
    }
   ],
   "source": [
    "df.tail(10)"
   ]
  },
  {
   "cell_type": "code",
   "execution_count": 7,
   "id": "2caf8999",
   "metadata": {},
   "outputs": [
    {
     "data": {
      "text/plain": [
       "(1338, 7)"
      ]
     },
     "execution_count": 7,
     "metadata": {},
     "output_type": "execute_result"
    }
   ],
   "source": [
    "df.shape"
   ]
  },
  {
   "cell_type": "markdown",
   "id": "87588a41",
   "metadata": {},
   "source": [
    "Checking null values in the dataframe-"
   ]
  },
  {
   "cell_type": "code",
   "execution_count": 8,
   "id": "d3b96240",
   "metadata": {},
   "outputs": [
    {
     "data": {
      "text/plain": [
       "age         0\n",
       "sex         0\n",
       "bmi         0\n",
       "children    0\n",
       "smoker      0\n",
       "region      0\n",
       "charges     0\n",
       "dtype: int64"
      ]
     },
     "execution_count": 8,
     "metadata": {},
     "output_type": "execute_result"
    }
   ],
   "source": [
    "df.isnull().sum()"
   ]
  },
  {
   "cell_type": "code",
   "execution_count": 9,
   "id": "2d71dd4d",
   "metadata": {},
   "outputs": [
    {
     "data": {
      "text/plain": [
       "array([16884.924 ,  1725.5523,  4449.462 , ...,  1629.8335,  2007.945 ,\n",
       "       29141.3603])"
      ]
     },
     "execution_count": 9,
     "metadata": {},
     "output_type": "execute_result"
    }
   ],
   "source": [
    "df['charges'].unique()"
   ]
  },
  {
   "cell_type": "code",
   "execution_count": 10,
   "id": "fddd856c",
   "metadata": {},
   "outputs": [
    {
     "data": {
      "text/plain": [
       "1337"
      ]
     },
     "execution_count": 10,
     "metadata": {},
     "output_type": "execute_result"
    }
   ],
   "source": [
    "df['charges'].nunique()"
   ]
  },
  {
   "cell_type": "code",
   "execution_count": 11,
   "id": "239756ec",
   "metadata": {},
   "outputs": [
    {
     "data": {
      "text/html": [
       "<div>\n",
       "<style scoped>\n",
       "    .dataframe tbody tr th:only-of-type {\n",
       "        vertical-align: middle;\n",
       "    }\n",
       "\n",
       "    .dataframe tbody tr th {\n",
       "        vertical-align: top;\n",
       "    }\n",
       "\n",
       "    .dataframe thead th {\n",
       "        text-align: right;\n",
       "    }\n",
       "</style>\n",
       "<table border=\"1\" class=\"dataframe\">\n",
       "  <thead>\n",
       "    <tr style=\"text-align: right;\">\n",
       "      <th></th>\n",
       "      <th>age</th>\n",
       "      <th>sex</th>\n",
       "      <th>bmi</th>\n",
       "      <th>children</th>\n",
       "      <th>smoker</th>\n",
       "      <th>region</th>\n",
       "      <th>charges</th>\n",
       "    </tr>\n",
       "  </thead>\n",
       "  <tbody>\n",
       "  </tbody>\n",
       "</table>\n",
       "</div>"
      ],
      "text/plain": [
       "Empty DataFrame\n",
       "Columns: [age, sex, bmi, children, smoker, region, charges]\n",
       "Index: []"
      ]
     },
     "execution_count": 11,
     "metadata": {},
     "output_type": "execute_result"
    }
   ],
   "source": [
    "df.loc[df['charges']==' ']"
   ]
  },
  {
   "cell_type": "markdown",
   "id": "19551c6f",
   "metadata": {},
   "source": [
    "We see there are no blank spaces are present in the dataframe."
   ]
  },
  {
   "cell_type": "markdown",
   "id": "f324e2bf",
   "metadata": {},
   "source": [
    "Making dataframe for the nominal data-"
   ]
  },
  {
   "cell_type": "code",
   "execution_count": 12,
   "id": "00c8e040",
   "metadata": {},
   "outputs": [
    {
     "data": {
      "text/html": [
       "<div>\n",
       "<style scoped>\n",
       "    .dataframe tbody tr th:only-of-type {\n",
       "        vertical-align: middle;\n",
       "    }\n",
       "\n",
       "    .dataframe tbody tr th {\n",
       "        vertical-align: top;\n",
       "    }\n",
       "\n",
       "    .dataframe thead th {\n",
       "        text-align: right;\n",
       "    }\n",
       "</style>\n",
       "<table border=\"1\" class=\"dataframe\">\n",
       "  <thead>\n",
       "    <tr style=\"text-align: right;\">\n",
       "      <th></th>\n",
       "      <th>sex</th>\n",
       "      <th>children</th>\n",
       "      <th>smoker</th>\n",
       "      <th>region</th>\n",
       "    </tr>\n",
       "  </thead>\n",
       "  <tbody>\n",
       "    <tr>\n",
       "      <th>0</th>\n",
       "      <td>female</td>\n",
       "      <td>0</td>\n",
       "      <td>yes</td>\n",
       "      <td>southwest</td>\n",
       "    </tr>\n",
       "    <tr>\n",
       "      <th>1</th>\n",
       "      <td>male</td>\n",
       "      <td>1</td>\n",
       "      <td>no</td>\n",
       "      <td>southeast</td>\n",
       "    </tr>\n",
       "    <tr>\n",
       "      <th>2</th>\n",
       "      <td>male</td>\n",
       "      <td>3</td>\n",
       "      <td>no</td>\n",
       "      <td>southeast</td>\n",
       "    </tr>\n",
       "    <tr>\n",
       "      <th>3</th>\n",
       "      <td>male</td>\n",
       "      <td>0</td>\n",
       "      <td>no</td>\n",
       "      <td>northwest</td>\n",
       "    </tr>\n",
       "    <tr>\n",
       "      <th>4</th>\n",
       "      <td>male</td>\n",
       "      <td>0</td>\n",
       "      <td>no</td>\n",
       "      <td>northwest</td>\n",
       "    </tr>\n",
       "    <tr>\n",
       "      <th>...</th>\n",
       "      <td>...</td>\n",
       "      <td>...</td>\n",
       "      <td>...</td>\n",
       "      <td>...</td>\n",
       "    </tr>\n",
       "    <tr>\n",
       "      <th>1333</th>\n",
       "      <td>male</td>\n",
       "      <td>3</td>\n",
       "      <td>no</td>\n",
       "      <td>northwest</td>\n",
       "    </tr>\n",
       "    <tr>\n",
       "      <th>1334</th>\n",
       "      <td>female</td>\n",
       "      <td>0</td>\n",
       "      <td>no</td>\n",
       "      <td>northeast</td>\n",
       "    </tr>\n",
       "    <tr>\n",
       "      <th>1335</th>\n",
       "      <td>female</td>\n",
       "      <td>0</td>\n",
       "      <td>no</td>\n",
       "      <td>southeast</td>\n",
       "    </tr>\n",
       "    <tr>\n",
       "      <th>1336</th>\n",
       "      <td>female</td>\n",
       "      <td>0</td>\n",
       "      <td>no</td>\n",
       "      <td>southwest</td>\n",
       "    </tr>\n",
       "    <tr>\n",
       "      <th>1337</th>\n",
       "      <td>female</td>\n",
       "      <td>0</td>\n",
       "      <td>yes</td>\n",
       "      <td>northwest</td>\n",
       "    </tr>\n",
       "  </tbody>\n",
       "</table>\n",
       "<p>1338 rows × 4 columns</p>\n",
       "</div>"
      ],
      "text/plain": [
       "         sex  children smoker     region\n",
       "0     female         0    yes  southwest\n",
       "1       male         1     no  southeast\n",
       "2       male         3     no  southeast\n",
       "3       male         0     no  northwest\n",
       "4       male         0     no  northwest\n",
       "...      ...       ...    ...        ...\n",
       "1333    male         3     no  northwest\n",
       "1334  female         0     no  northeast\n",
       "1335  female         0     no  southeast\n",
       "1336  female         0     no  southwest\n",
       "1337  female         0    yes  northwest\n",
       "\n",
       "[1338 rows x 4 columns]"
      ]
     },
     "execution_count": 12,
     "metadata": {},
     "output_type": "execute_result"
    }
   ],
   "source": [
    "df_visualization_nominal=df[['sex','children','smoker','region']].copy()\n",
    "df_visualization_nominal"
   ]
  },
  {
   "cell_type": "markdown",
   "id": "ab8ca90d",
   "metadata": {},
   "source": [
    "Visualization of data-"
   ]
  },
  {
   "cell_type": "markdown",
   "id": "8b0d8f23",
   "metadata": {},
   "source": [
    "For the nominal categorical data we will use countplot as it will give the frequency of the classes of the columns."
   ]
  },
  {
   "cell_type": "code",
   "execution_count": 13,
   "id": "8f7fe05a",
   "metadata": {},
   "outputs": [],
   "source": [
    "import seaborn as sns"
   ]
  },
  {
   "cell_type": "code",
   "execution_count": 14,
   "id": "77ede8bc",
   "metadata": {},
   "outputs": [
    {
     "name": "stdout",
     "output_type": "stream",
     "text": [
      "male      676\n",
      "female    662\n",
      "Name: sex, dtype: int64\n"
     ]
    },
    {
     "data": {
      "image/png": "[encoded data removed]",
      "text/plain": [
       "<Figure size 432x288 with 1 Axes>"
      ]
     },
     "metadata": {
      "needs_background": "light"
     },
     "output_type": "display_data"
    }
   ],
   "source": [
    "ax=sns.countplot(x='sex',data=df_visualization_nominal)\n",
    "print(df_visualization_nominal['sex'].value_counts())"
   ]
  },
  {
   "cell_type": "code",
   "execution_count": 15,
   "id": "f5d4ef93",
   "metadata": {},
   "outputs": [
    {
     "name": "stdout",
     "output_type": "stream",
     "text": [
      "0    574\n",
      "1    324\n",
      "2    240\n",
      "3    157\n",
      "4     25\n",
      "5     18\n",
      "Name: children, dtype: int64\n"
     ]
    },
    {
     "data": {
      "image/png": "[encoded data removed]",
      "text/plain": [
       "<Figure size 432x288 with 1 Axes>"
      ]
     },
     "metadata": {
      "needs_background": "light"
     },
     "output_type": "display_data"
    }
   ],
   "source": [
    "ax=sns.countplot(x='children',data=df_visualization_nominal)\n",
    "print(df_visualization_nominal['children'].value_counts())"
   ]
  },
  {
   "cell_type": "code",
   "execution_count": 16,
   "id": "e5153cc1",
   "metadata": {},
   "outputs": [
    {
     "name": "stdout",
     "output_type": "stream",
     "text": [
      "no     1064\n",
      "yes     274\n",
      "Name: smoker, dtype: int64\n"
     ]
    },
    {
     "data": {
      "image/png": "[encoded data removed]",
      "text/plain": [
       "<Figure size 432x288 with 1 Axes>"
      ]
     },
     "metadata": {
      "needs_background": "light"
     },
     "output_type": "display_data"
    }
   ],
   "source": [
    "ax=sns.countplot(x='smoker',data=df_visualization_nominal)\n",
    "print(df_visualization_nominal['smoker'].value_counts())"
   ]
  },
  {
   "cell_type": "code",
   "execution_count": 17,
   "id": "2f6a5b23",
   "metadata": {},
   "outputs": [
    {
     "name": "stdout",
     "output_type": "stream",
     "text": [
      "southeast    364\n",
      "southwest    325\n",
      "northwest    325\n",
      "northeast    324\n",
      "Name: region, dtype: int64\n"
     ]
    },
    {
     "data": {
      "image/png": "[encoded data removed]",
      "text/plain": [
       "<Figure size 432x288 with 1 Axes>"
      ]
     },
     "metadata": {
      "needs_background": "light"
     },
     "output_type": "display_data"
    }
   ],
   "source": [
    "ax=sns.countplot(x='region',data=df_visualization_nominal)\n",
    "print(df_visualization_nominal['region'].value_counts())"
   ]
  },
  {
   "cell_type": "markdown",
   "id": "bcbac883",
   "metadata": {},
   "source": [
    "For the ordinal categorical data we will use lineplot as it will give us the flow of the line of the classes of the columns."
   ]
  },
  {
   "cell_type": "code",
   "execution_count": 18,
   "id": "cb852a69",
   "metadata": {},
   "outputs": [],
   "source": [
    "df_visualization_ordinal=df[['age']].copy()"
   ]
  },
  {
   "cell_type": "code",
   "execution_count": 19,
   "id": "b661c625",
   "metadata": {},
   "outputs": [
    {
     "data": {
      "text/plain": [
       "<seaborn.axisgrid.FacetGrid at 0x11ee37f10>"
      ]
     },
     "execution_count": 19,
     "metadata": {},
     "output_type": "execute_result"
    },
    {
     "data": {
      "image/png": "[encoded data removed]",
      "text/plain": [
       "<Figure size 360x360 with 1 Axes>"
      ]
     },
     "metadata": {
      "needs_background": "light"
     },
     "output_type": "display_data"
    }
   ],
   "source": [
    "sns.catplot(x='sex',y='age',data=df)"
   ]
  },
  {
   "cell_type": "markdown",
   "id": "0a8dcb45",
   "metadata": {},
   "source": [
    "For the continuous categorical data we will use distplot."
   ]
  },
  {
   "cell_type": "code",
   "execution_count": 20,
   "id": "12b61a1f",
   "metadata": {},
   "outputs": [],
   "source": [
    "df_visualization_conitnuous=df[['bmi','charges']].copy()"
   ]
  },
  {
   "cell_type": "code",
   "execution_count": 21,
   "id": "73721e33",
   "metadata": {},
   "outputs": [
    {
     "data": {
      "text/plain": [
       "<seaborn.axisgrid.FacetGrid at 0x11ee401c0>"
      ]
     },
     "execution_count": 21,
     "metadata": {},
     "output_type": "execute_result"
    },
    {
     "data": {
      "image/png": "[encoded data removed]",
      "text/plain": [
       "<Figure size 360x360 with 1 Axes>"
      ]
     },
     "metadata": {
      "needs_background": "light"
     },
     "output_type": "display_data"
    }
   ],
   "source": [
    "sns.displot(df_visualization_conitnuous['bmi'],kde=True)"
   ]
  },
  {
   "cell_type": "code",
   "execution_count": 22,
   "id": "fe88b24f",
   "metadata": {},
   "outputs": [
    {
     "data": {
      "text/plain": [
       "<seaborn.axisgrid.FacetGrid at 0x11f155160>"
      ]
     },
     "execution_count": 22,
     "metadata": {},
     "output_type": "execute_result"
    },
    {
     "data": {
      "image/png": "[encoded data removed]",
      "text/plain": [
       "<Figure size 360x360 with 1 Axes>"
      ]
     },
     "metadata": {
      "needs_background": "light"
     },
     "output_type": "display_data"
    }
   ],
   "source": [
    "sns.displot(df_visualization_conitnuous['charges'],kde=True)"
   ]
  },
  {
   "cell_type": "markdown",
   "id": "08c03eca",
   "metadata": {},
   "source": [
    "Encoding of Dataframe-"
   ]
  },
  {
   "cell_type": "code",
   "execution_count": 23,
   "id": "b5d26bdd",
   "metadata": {},
   "outputs": [],
   "source": [
    "from sklearn.preprocessing import OrdinalEncoder\n",
    "enc=OrdinalEncoder()"
   ]
  },
  {
   "cell_type": "code",
   "execution_count": 24,
   "id": "ddf20c12",
   "metadata": {},
   "outputs": [],
   "source": [
    "for i in df.columns:\n",
    "    if df[i].dtypes=='object':\n",
    "        df[i]=enc.fit_transform(df[i].values.reshape(-1,1))"
   ]
  },
  {
   "cell_type": "code",
   "execution_count": 25,
   "id": "91a37889",
   "metadata": {},
   "outputs": [
    {
     "data": {
      "text/html": [
       "<div>\n",
       "<style scoped>\n",
       "    .dataframe tbody tr th:only-of-type {\n",
       "        vertical-align: middle;\n",
       "    }\n",
       "\n",
       "    .dataframe tbody tr th {\n",
       "        vertical-align: top;\n",
       "    }\n",
       "\n",
       "    .dataframe thead th {\n",
       "        text-align: right;\n",
       "    }\n",
       "</style>\n",
       "<table border=\"1\" class=\"dataframe\">\n",
       "  <thead>\n",
       "    <tr style=\"text-align: right;\">\n",
       "      <th></th>\n",
       "      <th>age</th>\n",
       "      <th>sex</th>\n",
       "      <th>bmi</th>\n",
       "      <th>children</th>\n",
       "      <th>smoker</th>\n",
       "      <th>region</th>\n",
       "      <th>charges</th>\n",
       "    </tr>\n",
       "  </thead>\n",
       "  <tbody>\n",
       "    <tr>\n",
       "      <th>0</th>\n",
       "      <td>19</td>\n",
       "      <td>0.0</td>\n",
       "      <td>27.900</td>\n",
       "      <td>0</td>\n",
       "      <td>1.0</td>\n",
       "      <td>3.0</td>\n",
       "      <td>16884.92400</td>\n",
       "    </tr>\n",
       "    <tr>\n",
       "      <th>1</th>\n",
       "      <td>18</td>\n",
       "      <td>1.0</td>\n",
       "      <td>33.770</td>\n",
       "      <td>1</td>\n",
       "      <td>0.0</td>\n",
       "      <td>2.0</td>\n",
       "      <td>1725.55230</td>\n",
       "    </tr>\n",
       "    <tr>\n",
       "      <th>2</th>\n",
       "      <td>28</td>\n",
       "      <td>1.0</td>\n",
       "      <td>33.000</td>\n",
       "      <td>3</td>\n",
       "      <td>0.0</td>\n",
       "      <td>2.0</td>\n",
       "      <td>4449.46200</td>\n",
       "    </tr>\n",
       "    <tr>\n",
       "      <th>3</th>\n",
       "      <td>33</td>\n",
       "      <td>1.0</td>\n",
       "      <td>22.705</td>\n",
       "      <td>0</td>\n",
       "      <td>0.0</td>\n",
       "      <td>1.0</td>\n",
       "      <td>21984.47061</td>\n",
       "    </tr>\n",
       "    <tr>\n",
       "      <th>4</th>\n",
       "      <td>32</td>\n",
       "      <td>1.0</td>\n",
       "      <td>28.880</td>\n",
       "      <td>0</td>\n",
       "      <td>0.0</td>\n",
       "      <td>1.0</td>\n",
       "      <td>3866.85520</td>\n",
       "    </tr>\n",
       "    <tr>\n",
       "      <th>...</th>\n",
       "      <td>...</td>\n",
       "      <td>...</td>\n",
       "      <td>...</td>\n",
       "      <td>...</td>\n",
       "      <td>...</td>\n",
       "      <td>...</td>\n",
       "      <td>...</td>\n",
       "    </tr>\n",
       "    <tr>\n",
       "      <th>1333</th>\n",
       "      <td>50</td>\n",
       "      <td>1.0</td>\n",
       "      <td>30.970</td>\n",
       "      <td>3</td>\n",
       "      <td>0.0</td>\n",
       "      <td>1.0</td>\n",
       "      <td>10600.54830</td>\n",
       "    </tr>\n",
       "    <tr>\n",
       "      <th>1334</th>\n",
       "      <td>18</td>\n",
       "      <td>0.0</td>\n",
       "      <td>31.920</td>\n",
       "      <td>0</td>\n",
       "      <td>0.0</td>\n",
       "      <td>0.0</td>\n",
       "      <td>2205.98080</td>\n",
       "    </tr>\n",
       "    <tr>\n",
       "      <th>1335</th>\n",
       "      <td>18</td>\n",
       "      <td>0.0</td>\n",
       "      <td>36.850</td>\n",
       "      <td>0</td>\n",
       "      <td>0.0</td>\n",
       "      <td>2.0</td>\n",
       "      <td>1629.83350</td>\n",
       "    </tr>\n",
       "    <tr>\n",
       "      <th>1336</th>\n",
       "      <td>21</td>\n",
       "      <td>0.0</td>\n",
       "      <td>25.800</td>\n",
       "      <td>0</td>\n",
       "      <td>0.0</td>\n",
       "      <td>3.0</td>\n",
       "      <td>2007.94500</td>\n",
       "    </tr>\n",
       "    <tr>\n",
       "      <th>1337</th>\n",
       "      <td>61</td>\n",
       "      <td>0.0</td>\n",
       "      <td>29.070</td>\n",
       "      <td>0</td>\n",
       "      <td>1.0</td>\n",
       "      <td>1.0</td>\n",
       "      <td>29141.36030</td>\n",
       "    </tr>\n",
       "  </tbody>\n",
       "</table>\n",
       "<p>1338 rows × 7 columns</p>\n",
       "</div>"
      ],
      "text/plain": [
       "      age  sex     bmi  children  smoker  region      charges\n",
       "0      19  0.0  27.900         0     1.0     3.0  16884.92400\n",
       "1      18  1.0  33.770         1     0.0     2.0   1725.55230\n",
       "2      28  1.0  33.000         3     0.0     2.0   4449.46200\n",
       "3      33  1.0  22.705         0     0.0     1.0  21984.47061\n",
       "4      32  1.0  28.880         0     0.0     1.0   3866.85520\n",
       "...   ...  ...     ...       ...     ...     ...          ...\n",
       "1333   50  1.0  30.970         3     0.0     1.0  10600.54830\n",
       "1334   18  0.0  31.920         0     0.0     0.0   2205.98080\n",
       "1335   18  0.0  36.850         0     0.0     2.0   1629.83350\n",
       "1336   21  0.0  25.800         0     0.0     3.0   2007.94500\n",
       "1337   61  0.0  29.070         0     1.0     1.0  29141.36030\n",
       "\n",
       "[1338 rows x 7 columns]"
      ]
     },
     "execution_count": 25,
     "metadata": {},
     "output_type": "execute_result"
    }
   ],
   "source": [
    "df"
   ]
  },
  {
   "cell_type": "markdown",
   "id": "cb53c0dd",
   "metadata": {},
   "source": [
    "Describing the dataset-"
   ]
  },
  {
   "cell_type": "code",
   "execution_count": 26,
   "id": "83b20281",
   "metadata": {},
   "outputs": [
    {
     "data": {
      "text/html": [
       "<div>\n",
       "<style scoped>\n",
       "    .dataframe tbody tr th:only-of-type {\n",
       "        vertical-align: middle;\n",
       "    }\n",
       "\n",
       "    .dataframe tbody tr th {\n",
       "        vertical-align: top;\n",
       "    }\n",
       "\n",
       "    .dataframe thead th {\n",
       "        text-align: right;\n",
       "    }\n",
       "</style>\n",
       "<table border=\"1\" class=\"dataframe\">\n",
       "  <thead>\n",
       "    <tr style=\"text-align: right;\">\n",
       "      <th></th>\n",
       "      <th>age</th>\n",
       "      <th>sex</th>\n",
       "      <th>bmi</th>\n",
       "      <th>children</th>\n",
       "      <th>smoker</th>\n",
       "      <th>region</th>\n",
       "      <th>charges</th>\n",
       "    </tr>\n",
       "  </thead>\n",
       "  <tbody>\n",
       "    <tr>\n",
       "      <th>count</th>\n",
       "      <td>1338.000000</td>\n",
       "      <td>1338.000000</td>\n",
       "      <td>1338.000000</td>\n",
       "      <td>1338.000000</td>\n",
       "      <td>1338.000000</td>\n",
       "      <td>1338.000000</td>\n",
       "      <td>1338.000000</td>\n",
       "    </tr>\n",
       "    <tr>\n",
       "      <th>mean</th>\n",
       "      <td>39.207025</td>\n",
       "      <td>0.505232</td>\n",
       "      <td>30.663397</td>\n",
       "      <td>1.094918</td>\n",
       "      <td>0.204783</td>\n",
       "      <td>1.515695</td>\n",
       "      <td>13270.422265</td>\n",
       "    </tr>\n",
       "    <tr>\n",
       "      <th>std</th>\n",
       "      <td>14.049960</td>\n",
       "      <td>0.500160</td>\n",
       "      <td>6.098187</td>\n",
       "      <td>1.205493</td>\n",
       "      <td>0.403694</td>\n",
       "      <td>1.104885</td>\n",
       "      <td>12110.011237</td>\n",
       "    </tr>\n",
       "    <tr>\n",
       "      <th>min</th>\n",
       "      <td>18.000000</td>\n",
       "      <td>0.000000</td>\n",
       "      <td>15.960000</td>\n",
       "      <td>0.000000</td>\n",
       "      <td>0.000000</td>\n",
       "      <td>0.000000</td>\n",
       "      <td>1121.873900</td>\n",
       "    </tr>\n",
       "    <tr>\n",
       "      <th>25%</th>\n",
       "      <td>27.000000</td>\n",
       "      <td>0.000000</td>\n",
       "      <td>26.296250</td>\n",
       "      <td>0.000000</td>\n",
       "      <td>0.000000</td>\n",
       "      <td>1.000000</td>\n",
       "      <td>4740.287150</td>\n",
       "    </tr>\n",
       "    <tr>\n",
       "      <th>50%</th>\n",
       "      <td>39.000000</td>\n",
       "      <td>1.000000</td>\n",
       "      <td>30.400000</td>\n",
       "      <td>1.000000</td>\n",
       "      <td>0.000000</td>\n",
       "      <td>2.000000</td>\n",
       "      <td>9382.033000</td>\n",
       "    </tr>\n",
       "    <tr>\n",
       "      <th>75%</th>\n",
       "      <td>51.000000</td>\n",
       "      <td>1.000000</td>\n",
       "      <td>34.693750</td>\n",
       "      <td>2.000000</td>\n",
       "      <td>0.000000</td>\n",
       "      <td>2.000000</td>\n",
       "      <td>16639.912515</td>\n",
       "    </tr>\n",
       "    <tr>\n",
       "      <th>max</th>\n",
       "      <td>64.000000</td>\n",
       "      <td>1.000000</td>\n",
       "      <td>53.130000</td>\n",
       "      <td>5.000000</td>\n",
       "      <td>1.000000</td>\n",
       "      <td>3.000000</td>\n",
       "      <td>63770.428010</td>\n",
       "    </tr>\n",
       "  </tbody>\n",
       "</table>\n",
       "</div>"
      ],
      "text/plain": [
       "               age          sex          bmi     children       smoker  \\\n",
       "count  1338.000000  1338.000000  1338.000000  1338.000000  1338.000000   \n",
       "mean     39.207025     0.505232    30.663397     1.094918     0.204783   \n",
       "std      14.049960     0.500160     6.098187     1.205493     0.403694   \n",
       "min      18.000000     0.000000    15.960000     0.000000     0.000000   \n",
       "25%      27.000000     0.000000    26.296250     0.000000     0.000000   \n",
       "50%      39.000000     1.000000    30.400000     1.000000     0.000000   \n",
       "75%      51.000000     1.000000    34.693750     2.000000     0.000000   \n",
       "max      64.000000     1.000000    53.130000     5.000000     1.000000   \n",
       "\n",
       "            region       charges  \n",
       "count  1338.000000   1338.000000  \n",
       "mean      1.515695  13270.422265  \n",
       "std       1.104885  12110.011237  \n",
       "min       0.000000   1121.873900  \n",
       "25%       1.000000   4740.287150  \n",
       "50%       2.000000   9382.033000  \n",
       "75%       2.000000  16639.912515  \n",
       "max       3.000000  63770.428010  "
      ]
     },
     "execution_count": 26,
     "metadata": {},
     "output_type": "execute_result"
    }
   ],
   "source": [
    "df.describe()"
   ]
  },
  {
   "cell_type": "markdown",
   "id": "de6d3dd1",
   "metadata": {},
   "source": [
    "Describing the dataset gives us an understanding of various values like count of the attribute,mean of that attribute, standard deviation, minimum, 25th percentile, median/50th percentile, 75th percentile and the maximum value of that attribute."
   ]
  },
  {
   "cell_type": "code",
   "execution_count": 27,
   "id": "b42152a0",
   "metadata": {},
   "outputs": [
    {
     "data": {
      "text/plain": [
       "<AxesSubplot:>"
      ]
     },
     "execution_count": 27,
     "metadata": {},
     "output_type": "execute_result"
    },
    {
     "data": {
      "image/png": "[encoded data removed]",
      "text/plain": [
       "<Figure size 1584x504 with 2 Axes>"
      ]
     },
     "metadata": {
      "needs_background": "light"
     },
     "output_type": "display_data"
    }
   ],
   "source": [
    "import matplotlib.pyplot as plt\n",
    "plt.figure(figsize=(22,7))\n",
    "sns.heatmap(df.describe(),annot=True)"
   ]
  },
  {
   "cell_type": "markdown",
   "id": "9f200eb5",
   "metadata": {},
   "source": [
    "Correlation of the columns with the target columns-"
   ]
  },
  {
   "cell_type": "code",
   "execution_count": 28,
   "id": "40c5bce4",
   "metadata": {},
   "outputs": [
    {
     "data": {
      "text/plain": [
       "region     -0.006208\n",
       "sex         0.057292\n",
       "children    0.067998\n",
       "bmi         0.198341\n",
       "age         0.299008\n",
       "smoker      0.787251\n",
       "charges     1.000000\n",
       "Name: charges, dtype: float64"
      ]
     },
     "execution_count": 28,
     "metadata": {},
     "output_type": "execute_result"
    }
   ],
   "source": [
    "df.corr()['charges'].sort_values()"
   ]
  },
  {
   "cell_type": "code",
   "execution_count": 29,
   "id": "38b4dbdd",
   "metadata": {},
   "outputs": [
    {
     "data": {
      "text/plain": [
       "<AxesSubplot:>"
      ]
     },
     "execution_count": 29,
     "metadata": {},
     "output_type": "execute_result"
    },
    {
     "data": {
      "image/png": "[encoded data removed]",
      "text/plain": [
       "<Figure size 1584x504 with 2 Axes>"
      ]
     },
     "metadata": {
      "needs_background": "light"
     },
     "output_type": "display_data"
    }
   ],
   "source": [
    "plt.figure(figsize=(22,7))\n",
    "sns.heatmap(df.corr(),annot=True)"
   ]
  },
  {
   "cell_type": "markdown",
   "id": "4f860251",
   "metadata": {},
   "source": [
    "Checking whether the columns are positively or negatively correlated with the target column."
   ]
  },
  {
   "cell_type": "code",
   "execution_count": 30,
   "id": "e8305780",
   "metadata": {},
   "outputs": [
    {
     "data": {
      "image/png": "[encoded data removed]",
      "text/plain": [
       "<Figure size 1584x504 with 1 Axes>"
      ]
     },
     "metadata": {
      "needs_background": "light"
     },
     "output_type": "display_data"
    }
   ],
   "source": [
    "plt.figure(figsize=(22,7))\n",
    "df.corr()['charges'].sort_values(ascending=False).drop(['charges']).plot(kind='bar',color='c')\n",
    "plt.xlabel('Feature',fontsize=14)\n",
    "plt.ylabel('column with target names',fontsize=14)\n",
    "plt.title('correlation',fontsize=14)\n",
    "plt.show()"
   ]
  },
  {
   "cell_type": "code",
   "execution_count": 31,
   "id": "95d54abf",
   "metadata": {},
   "outputs": [
    {
     "data": {
      "text/plain": [
       "age         0.055673\n",
       "sex        -0.020951\n",
       "bmi         0.284047\n",
       "children    0.938380\n",
       "smoker      1.464766\n",
       "region     -0.038101\n",
       "charges     1.515880\n",
       "dtype: float64"
      ]
     },
     "execution_count": 31,
     "metadata": {},
     "output_type": "execute_result"
    }
   ],
   "source": [
    "df.skew()"
   ]
  },
  {
   "cell_type": "markdown",
   "id": "52416758",
   "metadata": {},
   "source": [
    "Keeping +/-0.5 as the range for skewness, here are the columns which do not lie within the range-\n",
    "1. children-categorical\n",
    "2. smoker-nominal\n",
    "3. charges-continuous"
   ]
  },
  {
   "cell_type": "markdown",
   "id": "283c3483",
   "metadata": {},
   "source": [
    "Since no column has skewness, we will not treat them."
   ]
  },
  {
   "cell_type": "code",
   "execution_count": 32,
   "id": "131b3cba",
   "metadata": {},
   "outputs": [
    {
     "data": {
      "text/plain": [
       "age           int64\n",
       "sex         float64\n",
       "bmi         float64\n",
       "children      int64\n",
       "smoker      float64\n",
       "region      float64\n",
       "charges     float64\n",
       "dtype: object"
      ]
     },
     "execution_count": 32,
     "metadata": {},
     "output_type": "execute_result"
    }
   ],
   "source": [
    "df.dtypes"
   ]
  },
  {
   "cell_type": "markdown",
   "id": "0809ba89",
   "metadata": {},
   "source": [
    "Checking for outliers on the int and float type of columns-"
   ]
  },
  {
   "cell_type": "code",
   "execution_count": 33,
   "id": "d4938093",
   "metadata": {},
   "outputs": [
    {
     "data": {
      "text/plain": [
       "<AxesSubplot:>"
      ]
     },
     "execution_count": 33,
     "metadata": {},
     "output_type": "execute_result"
    },
    {
     "data": {
      "image/png": "[encoded data removed]",
      "text/plain": [
       "<Figure size 432x288 with 1 Axes>"
      ]
     },
     "metadata": {
      "needs_background": "light"
     },
     "output_type": "display_data"
    }
   ],
   "source": [
    "df['age'].plot.box()"
   ]
  },
  {
   "cell_type": "code",
   "execution_count": 34,
   "id": "ff18bf19",
   "metadata": {},
   "outputs": [
    {
     "data": {
      "text/plain": [
       "<AxesSubplot:>"
      ]
     },
     "execution_count": 34,
     "metadata": {},
     "output_type": "execute_result"
    },
    {
     "data": {
      "image/png": "[encoded data removed]",
      "text/plain": [
       "<Figure size 432x288 with 1 Axes>"
      ]
     },
     "metadata": {
      "needs_background": "light"
     },
     "output_type": "display_data"
    }
   ],
   "source": [
    "df['charges'].plot.box()"
   ]
  },
  {
   "cell_type": "code",
   "execution_count": 35,
   "id": "ce0c365f",
   "metadata": {},
   "outputs": [
    {
     "data": {
      "text/plain": [
       "<AxesSubplot:>"
      ]
     },
     "execution_count": 35,
     "metadata": {},
     "output_type": "execute_result"
    },
    {
     "data": {
      "image/png": "[encoded data removed]",
      "text/plain": [
       "<Figure size 432x288 with 1 Axes>"
      ]
     },
     "metadata": {
      "needs_background": "light"
     },
     "output_type": "display_data"
    }
   ],
   "source": [
    "df['bmi'].plot.box()"
   ]
  },
  {
   "cell_type": "markdown",
   "id": "20c3df30",
   "metadata": {},
   "source": [
    "Considering the outlier removal-"
   ]
  },
  {
   "cell_type": "code",
   "execution_count": 36,
   "id": "64a5fce3",
   "metadata": {},
   "outputs": [
    {
     "data": {
      "text/plain": [
       "(1338, 7)"
      ]
     },
     "execution_count": 36,
     "metadata": {},
     "output_type": "execute_result"
    }
   ],
   "source": [
    "df.shape"
   ]
  },
  {
   "cell_type": "code",
   "execution_count": 38,
   "id": "f7ae49c8",
   "metadata": {},
   "outputs": [
    {
     "data": {
      "text/plain": [
       "(array([  32,   34,   71,  116,  166,  413,  425,  438,  543,  568,  577,\n",
       "         640,  819,  847,  877,  932,  937,  969,  984, 1047, 1085, 1116,\n",
       "        1130, 1146, 1230, 1245, 1272, 1300, 1317]),\n",
       " array([3, 6, 3, 2, 3, 3, 3, 3, 6, 3, 6, 3, 6, 2, 3, 3, 3, 3, 3, 2, 3, 3,\n",
       "        3, 6, 6, 3, 3, 6, 2]))"
      ]
     },
     "execution_count": 38,
     "metadata": {},
     "output_type": "execute_result"
    }
   ],
   "source": [
    "import numpy as np\n",
    "from scipy.stats import zscore\n",
    "z=np.abs(zscore(df))\n",
    "threshold=3\n",
    "np.where(z>3)"
   ]
  },
  {
   "cell_type": "code",
   "execution_count": 39,
   "id": "0e47a0f4",
   "metadata": {},
   "outputs": [
    {
     "data": {
      "text/html": [
       "<div>\n",
       "<style scoped>\n",
       "    .dataframe tbody tr th:only-of-type {\n",
       "        vertical-align: middle;\n",
       "    }\n",
       "\n",
       "    .dataframe tbody tr th {\n",
       "        vertical-align: top;\n",
       "    }\n",
       "\n",
       "    .dataframe thead th {\n",
       "        text-align: right;\n",
       "    }\n",
       "</style>\n",
       "<table border=\"1\" class=\"dataframe\">\n",
       "  <thead>\n",
       "    <tr style=\"text-align: right;\">\n",
       "      <th></th>\n",
       "      <th>age</th>\n",
       "      <th>sex</th>\n",
       "      <th>bmi</th>\n",
       "      <th>children</th>\n",
       "      <th>smoker</th>\n",
       "      <th>region</th>\n",
       "      <th>charges</th>\n",
       "    </tr>\n",
       "  </thead>\n",
       "  <tbody>\n",
       "    <tr>\n",
       "      <th>0</th>\n",
       "      <td>19</td>\n",
       "      <td>0.0</td>\n",
       "      <td>27.900</td>\n",
       "      <td>0</td>\n",
       "      <td>1.0</td>\n",
       "      <td>3.0</td>\n",
       "      <td>16884.92400</td>\n",
       "    </tr>\n",
       "    <tr>\n",
       "      <th>1</th>\n",
       "      <td>18</td>\n",
       "      <td>1.0</td>\n",
       "      <td>33.770</td>\n",
       "      <td>1</td>\n",
       "      <td>0.0</td>\n",
       "      <td>2.0</td>\n",
       "      <td>1725.55230</td>\n",
       "    </tr>\n",
       "    <tr>\n",
       "      <th>2</th>\n",
       "      <td>28</td>\n",
       "      <td>1.0</td>\n",
       "      <td>33.000</td>\n",
       "      <td>3</td>\n",
       "      <td>0.0</td>\n",
       "      <td>2.0</td>\n",
       "      <td>4449.46200</td>\n",
       "    </tr>\n",
       "    <tr>\n",
       "      <th>3</th>\n",
       "      <td>33</td>\n",
       "      <td>1.0</td>\n",
       "      <td>22.705</td>\n",
       "      <td>0</td>\n",
       "      <td>0.0</td>\n",
       "      <td>1.0</td>\n",
       "      <td>21984.47061</td>\n",
       "    </tr>\n",
       "    <tr>\n",
       "      <th>4</th>\n",
       "      <td>32</td>\n",
       "      <td>1.0</td>\n",
       "      <td>28.880</td>\n",
       "      <td>0</td>\n",
       "      <td>0.0</td>\n",
       "      <td>1.0</td>\n",
       "      <td>3866.85520</td>\n",
       "    </tr>\n",
       "    <tr>\n",
       "      <th>...</th>\n",
       "      <td>...</td>\n",
       "      <td>...</td>\n",
       "      <td>...</td>\n",
       "      <td>...</td>\n",
       "      <td>...</td>\n",
       "      <td>...</td>\n",
       "      <td>...</td>\n",
       "    </tr>\n",
       "    <tr>\n",
       "      <th>1333</th>\n",
       "      <td>50</td>\n",
       "      <td>1.0</td>\n",
       "      <td>30.970</td>\n",
       "      <td>3</td>\n",
       "      <td>0.0</td>\n",
       "      <td>1.0</td>\n",
       "      <td>10600.54830</td>\n",
       "    </tr>\n",
       "    <tr>\n",
       "      <th>1334</th>\n",
       "      <td>18</td>\n",
       "      <td>0.0</td>\n",
       "      <td>31.920</td>\n",
       "      <td>0</td>\n",
       "      <td>0.0</td>\n",
       "      <td>0.0</td>\n",
       "      <td>2205.98080</td>\n",
       "    </tr>\n",
       "    <tr>\n",
       "      <th>1335</th>\n",
       "      <td>18</td>\n",
       "      <td>0.0</td>\n",
       "      <td>36.850</td>\n",
       "      <td>0</td>\n",
       "      <td>0.0</td>\n",
       "      <td>2.0</td>\n",
       "      <td>1629.83350</td>\n",
       "    </tr>\n",
       "    <tr>\n",
       "      <th>1336</th>\n",
       "      <td>21</td>\n",
       "      <td>0.0</td>\n",
       "      <td>25.800</td>\n",
       "      <td>0</td>\n",
       "      <td>0.0</td>\n",
       "      <td>3.0</td>\n",
       "      <td>2007.94500</td>\n",
       "    </tr>\n",
       "    <tr>\n",
       "      <th>1337</th>\n",
       "      <td>61</td>\n",
       "      <td>0.0</td>\n",
       "      <td>29.070</td>\n",
       "      <td>0</td>\n",
       "      <td>1.0</td>\n",
       "      <td>1.0</td>\n",
       "      <td>29141.36030</td>\n",
       "    </tr>\n",
       "  </tbody>\n",
       "</table>\n",
       "<p>1309 rows × 7 columns</p>\n",
       "</div>"
      ],
      "text/plain": [
       "      age  sex     bmi  children  smoker  region      charges\n",
       "0      19  0.0  27.900         0     1.0     3.0  16884.92400\n",
       "1      18  1.0  33.770         1     0.0     2.0   1725.55230\n",
       "2      28  1.0  33.000         3     0.0     2.0   4449.46200\n",
       "3      33  1.0  22.705         0     0.0     1.0  21984.47061\n",
       "4      32  1.0  28.880         0     0.0     1.0   3866.85520\n",
       "...   ...  ...     ...       ...     ...     ...          ...\n",
       "1333   50  1.0  30.970         3     0.0     1.0  10600.54830\n",
       "1334   18  0.0  31.920         0     0.0     0.0   2205.98080\n",
       "1335   18  0.0  36.850         0     0.0     2.0   1629.83350\n",
       "1336   21  0.0  25.800         0     0.0     3.0   2007.94500\n",
       "1337   61  0.0  29.070         0     1.0     1.0  29141.36030\n",
       "\n",
       "[1309 rows x 7 columns]"
      ]
     },
     "execution_count": 39,
     "metadata": {},
     "output_type": "execute_result"
    }
   ],
   "source": [
    "df_new_z=df[(z<3).all(axis=1)]\n",
    "df_new_z"
   ]
  },
  {
   "cell_type": "markdown",
   "id": "7c35ef38",
   "metadata": {},
   "source": [
    "Percentage of data loss-"
   ]
  },
  {
   "cell_type": "code",
   "execution_count": 40,
   "id": "2c544441",
   "metadata": {},
   "outputs": [
    {
     "data": {
      "text/plain": [
       "2.167414050822123"
      ]
     },
     "execution_count": 40,
     "metadata": {},
     "output_type": "execute_result"
    }
   ],
   "source": [
    "data_loss=((1338-1309)/1338)*100\n",
    "data_loss"
   ]
  },
  {
   "cell_type": "markdown",
   "id": "e918f034",
   "metadata": {},
   "source": [
    "Separating the columns into features and target-"
   ]
  },
  {
   "cell_type": "code",
   "execution_count": 41,
   "id": "50b9535d",
   "metadata": {},
   "outputs": [],
   "source": [
    "features=df.drop('charges',axis=1)\n",
    "target=df['charges']"
   ]
  },
  {
   "cell_type": "markdown",
   "id": "e3f45d85",
   "metadata": {},
   "source": [
    "Scaling the data using MinMax scaler-"
   ]
  },
  {
   "cell_type": "code",
   "execution_count": 42,
   "id": "aed32f73",
   "metadata": {},
   "outputs": [],
   "source": [
    "from sklearn.preprocessing import MinMaxScaler\n",
    "mns=MinMaxScaler()\n",
    "from sklearn.linear_model import LinearRegression\n",
    "lr=LinearRegression()\n",
    "from sklearn.metrics import r2_score\n",
    "from sklearn.model_selection import train_test_split"
   ]
  },
  {
   "cell_type": "code",
   "execution_count": 43,
   "id": "3aecac5f",
   "metadata": {},
   "outputs": [],
   "source": [
    "import warnings\n",
    "warnings.filterwarnings('ignore')"
   ]
  },
  {
   "cell_type": "code",
   "execution_count": 44,
   "id": "daa2a98f",
   "metadata": {},
   "outputs": [
    {
     "name": "stdout",
     "output_type": "stream",
     "text": [
      "At random state 0,the training accuracy is:- 0.7475615631933097\n",
      "At random state 0,the testing accuracy is:- 0.7623224022563388\n",
      "\n",
      "\n",
      "At random state 1,the training accuracy is:- 0.7475615631933097\n",
      "At random state 1,the testing accuracy is:- 0.7623224022563388\n",
      "\n",
      "\n",
      "At random state 2,the training accuracy is:- 0.7475615631933097\n",
      "At random state 2,the testing accuracy is:- 0.7623224022563388\n",
      "\n",
      "\n",
      "At random state 3,the training accuracy is:- 0.7475615631933097\n",
      "At random state 3,the testing accuracy is:- 0.7623224022563388\n",
      "\n",
      "\n",
      "At random state 4,the training accuracy is:- 0.7475615631933097\n",
      "At random state 4,the testing accuracy is:- 0.7623224022563388\n",
      "\n",
      "\n",
      "At random state 5,the training accuracy is:- 0.7475615631933097\n",
      "At random state 5,the testing accuracy is:- 0.7623224022563388\n",
      "\n",
      "\n",
      "At random state 6,the training accuracy is:- 0.7475615631933097\n",
      "At random state 6,the testing accuracy is:- 0.7623224022563388\n",
      "\n",
      "\n",
      "At random state 7,the training accuracy is:- 0.7475615631933097\n",
      "At random state 7,the testing accuracy is:- 0.7623224022563388\n",
      "\n",
      "\n",
      "At random state 8,the training accuracy is:- 0.7475615631933097\n",
      "At random state 8,the testing accuracy is:- 0.7623224022563388\n",
      "\n",
      "\n",
      "At random state 9,the training accuracy is:- 0.7475615631933097\n",
      "At random state 9,the testing accuracy is:- 0.7623224022563388\n",
      "\n",
      "\n",
      "At random state 10,the training accuracy is:- 0.7475615631933097\n",
      "At random state 10,the testing accuracy is:- 0.7623224022563388\n",
      "\n",
      "\n",
      "At random state 11,the training accuracy is:- 0.7475615631933097\n",
      "At random state 11,the testing accuracy is:- 0.7623224022563388\n",
      "\n",
      "\n",
      "At random state 12,the training accuracy is:- 0.7475615631933097\n",
      "At random state 12,the testing accuracy is:- 0.7623224022563388\n",
      "\n",
      "\n",
      "At random state 13,the training accuracy is:- 0.7475615631933097\n",
      "At random state 13,the testing accuracy is:- 0.7623224022563388\n",
      "\n",
      "\n",
      "At random state 14,the training accuracy is:- 0.7475615631933097\n",
      "At random state 14,the testing accuracy is:- 0.7623224022563388\n",
      "\n",
      "\n",
      "At random state 15,the training accuracy is:- 0.7475615631933097\n",
      "At random state 15,the testing accuracy is:- 0.7623224022563388\n",
      "\n",
      "\n",
      "At random state 16,the training accuracy is:- 0.7475615631933097\n",
      "At random state 16,the testing accuracy is:- 0.7623224022563388\n",
      "\n",
      "\n",
      "At random state 17,the training accuracy is:- 0.7475615631933097\n",
      "At random state 17,the testing accuracy is:- 0.7623224022563388\n",
      "\n",
      "\n",
      "At random state 18,the training accuracy is:- 0.7475615631933097\n",
      "At random state 18,the testing accuracy is:- 0.7623224022563388\n",
      "\n",
      "\n",
      "At random state 19,the training accuracy is:- 0.7475615631933097\n",
      "At random state 19,the testing accuracy is:- 0.7623224022563388\n",
      "\n",
      "\n",
      "At random state 20,the training accuracy is:- 0.7475615631933097\n",
      "At random state 20,the testing accuracy is:- 0.7623224022563388\n",
      "\n",
      "\n",
      "At random state 21,the training accuracy is:- 0.7475615631933097\n",
      "At random state 21,the testing accuracy is:- 0.7623224022563388\n",
      "\n",
      "\n",
      "At random state 22,the training accuracy is:- 0.7475615631933097\n",
      "At random state 22,the testing accuracy is:- 0.7623224022563388\n",
      "\n",
      "\n",
      "At random state 23,the training accuracy is:- 0.7475615631933097\n",
      "At random state 23,the testing accuracy is:- 0.7623224022563388\n",
      "\n",
      "\n",
      "At random state 24,the training accuracy is:- 0.7475615631933097\n",
      "At random state 24,the testing accuracy is:- 0.7623224022563388\n",
      "\n",
      "\n",
      "At random state 25,the training accuracy is:- 0.7475615631933097\n",
      "At random state 25,the testing accuracy is:- 0.7623224022563388\n",
      "\n",
      "\n",
      "At random state 26,the training accuracy is:- 0.7475615631933097\n",
      "At random state 26,the testing accuracy is:- 0.7623224022563388\n",
      "\n",
      "\n",
      "At random state 27,the training accuracy is:- 0.7475615631933097\n",
      "At random state 27,the testing accuracy is:- 0.7623224022563388\n",
      "\n",
      "\n",
      "At random state 28,the training accuracy is:- 0.7475615631933097\n",
      "At random state 28,the testing accuracy is:- 0.7623224022563388\n",
      "\n",
      "\n",
      "At random state 29,the training accuracy is:- 0.7475615631933097\n",
      "At random state 29,the testing accuracy is:- 0.7623224022563388\n",
      "\n",
      "\n",
      "At random state 30,the training accuracy is:- 0.7475615631933097\n",
      "At random state 30,the testing accuracy is:- 0.7623224022563388\n",
      "\n",
      "\n",
      "At random state 31,the training accuracy is:- 0.7475615631933097\n",
      "At random state 31,the testing accuracy is:- 0.7623224022563388\n",
      "\n",
      "\n",
      "At random state 32,the training accuracy is:- 0.7475615631933097\n",
      "At random state 32,the testing accuracy is:- 0.7623224022563388\n",
      "\n",
      "\n",
      "At random state 33,the training accuracy is:- 0.7475615631933097\n",
      "At random state 33,the testing accuracy is:- 0.7623224022563388\n",
      "\n",
      "\n",
      "At random state 34,the training accuracy is:- 0.7475615631933097\n",
      "At random state 34,the testing accuracy is:- 0.7623224022563388\n",
      "\n",
      "\n",
      "At random state 35,the training accuracy is:- 0.7475615631933097\n",
      "At random state 35,the testing accuracy is:- 0.7623224022563388\n",
      "\n",
      "\n",
      "At random state 36,the training accuracy is:- 0.7475615631933097\n",
      "At random state 36,the testing accuracy is:- 0.7623224022563388\n",
      "\n",
      "\n",
      "At random state 37,the training accuracy is:- 0.7475615631933097\n",
      "At random state 37,the testing accuracy is:- 0.7623224022563388\n",
      "\n",
      "\n",
      "At random state 38,the training accuracy is:- 0.7475615631933097\n",
      "At random state 38,the testing accuracy is:- 0.7623224022563388\n",
      "\n",
      "\n",
      "At random state 39,the training accuracy is:- 0.7475615631933097\n",
      "At random state 39,the testing accuracy is:- 0.7623224022563388\n",
      "\n",
      "\n",
      "At random state 40,the training accuracy is:- 0.7475615631933097\n",
      "At random state 40,the testing accuracy is:- 0.7623224022563388\n",
      "\n",
      "\n",
      "At random state 41,the training accuracy is:- 0.7475615631933097\n",
      "At random state 41,the testing accuracy is:- 0.7623224022563388\n",
      "\n",
      "\n",
      "At random state 42,the training accuracy is:- 0.7475615631933097\n",
      "At random state 42,the testing accuracy is:- 0.7623224022563388\n",
      "\n",
      "\n",
      "At random state 43,the training accuracy is:- 0.7475615631933097\n",
      "At random state 43,the testing accuracy is:- 0.7623224022563388\n",
      "\n",
      "\n",
      "At random state 44,the training accuracy is:- 0.7475615631933097\n",
      "At random state 44,the testing accuracy is:- 0.7623224022563388\n",
      "\n",
      "\n",
      "At random state 45,the training accuracy is:- 0.7475615631933097\n",
      "At random state 45,the testing accuracy is:- 0.7623224022563388\n",
      "\n",
      "\n",
      "At random state 46,the training accuracy is:- 0.7475615631933097\n",
      "At random state 46,the testing accuracy is:- 0.7623224022563388\n",
      "\n",
      "\n",
      "At random state 47,the training accuracy is:- 0.7475615631933097\n",
      "At random state 47,the testing accuracy is:- 0.7623224022563388\n",
      "\n",
      "\n",
      "At random state 48,the training accuracy is:- 0.7475615631933097\n",
      "At random state 48,the testing accuracy is:- 0.7623224022563388\n",
      "\n",
      "\n",
      "At random state 49,the training accuracy is:- 0.7475615631933097\n",
      "At random state 49,the testing accuracy is:- 0.7623224022563388\n",
      "\n",
      "\n",
      "At random state 50,the training accuracy is:- 0.7475615631933097\n",
      "At random state 50,the testing accuracy is:- 0.7623224022563388\n",
      "\n",
      "\n",
      "At random state 51,the training accuracy is:- 0.7475615631933097\n",
      "At random state 51,the testing accuracy is:- 0.7623224022563388\n",
      "\n",
      "\n",
      "At random state 52,the training accuracy is:- 0.7475615631933097\n",
      "At random state 52,the testing accuracy is:- 0.7623224022563388\n",
      "\n",
      "\n",
      "At random state 53,the training accuracy is:- 0.7475615631933097\n",
      "At random state 53,the testing accuracy is:- 0.7623224022563388\n",
      "\n",
      "\n",
      "At random state 54,the training accuracy is:- 0.7475615631933097\n",
      "At random state 54,the testing accuracy is:- 0.7623224022563388\n",
      "\n",
      "\n",
      "At random state 55,the training accuracy is:- 0.7475615631933097\n",
      "At random state 55,the testing accuracy is:- 0.7623224022563388\n",
      "\n",
      "\n",
      "At random state 56,the training accuracy is:- 0.7475615631933097\n",
      "At random state 56,the testing accuracy is:- 0.7623224022563388\n",
      "\n",
      "\n",
      "At random state 57,the training accuracy is:- 0.7475615631933097\n",
      "At random state 57,the testing accuracy is:- 0.7623224022563388\n",
      "\n",
      "\n",
      "At random state 58,the training accuracy is:- 0.7475615631933097\n",
      "At random state 58,the testing accuracy is:- 0.7623224022563388\n",
      "\n",
      "\n",
      "At random state 59,the training accuracy is:- 0.7475615631933097\n",
      "At random state 59,the testing accuracy is:- 0.7623224022563388\n",
      "\n",
      "\n",
      "At random state 60,the training accuracy is:- 0.7475615631933097\n",
      "At random state 60,the testing accuracy is:- 0.7623224022563388\n",
      "\n",
      "\n",
      "At random state 61,the training accuracy is:- 0.7475615631933097\n",
      "At random state 61,the testing accuracy is:- 0.7623224022563388\n",
      "\n",
      "\n",
      "At random state 62,the training accuracy is:- 0.7475615631933097\n",
      "At random state 62,the testing accuracy is:- 0.7623224022563388\n",
      "\n",
      "\n",
      "At random state 63,the training accuracy is:- 0.7475615631933097\n",
      "At random state 63,the testing accuracy is:- 0.7623224022563388\n",
      "\n",
      "\n",
      "At random state 64,the training accuracy is:- 0.7475615631933097\n",
      "At random state 64,the testing accuracy is:- 0.7623224022563388\n",
      "\n",
      "\n",
      "At random state 65,the training accuracy is:- 0.7475615631933097\n",
      "At random state 65,the testing accuracy is:- 0.7623224022563388\n",
      "\n",
      "\n",
      "At random state 66,the training accuracy is:- 0.7475615631933097\n",
      "At random state 66,the testing accuracy is:- 0.7623224022563388\n",
      "\n",
      "\n",
      "At random state 67,the training accuracy is:- 0.7475615631933097\n",
      "At random state 67,the testing accuracy is:- 0.7623224022563388\n",
      "\n",
      "\n",
      "At random state 68,the training accuracy is:- 0.7475615631933097\n",
      "At random state 68,the testing accuracy is:- 0.7623224022563388\n",
      "\n",
      "\n",
      "At random state 69,the training accuracy is:- 0.7475615631933097\n",
      "At random state 69,the testing accuracy is:- 0.7623224022563388\n",
      "\n",
      "\n",
      "At random state 70,the training accuracy is:- 0.7475615631933097\n",
      "At random state 70,the testing accuracy is:- 0.7623224022563388\n",
      "\n",
      "\n",
      "At random state 71,the training accuracy is:- 0.7475615631933097\n",
      "At random state 71,the testing accuracy is:- 0.7623224022563388\n",
      "\n",
      "\n",
      "At random state 72,the training accuracy is:- 0.7475615631933097\n",
      "At random state 72,the testing accuracy is:- 0.7623224022563388\n",
      "\n",
      "\n",
      "At random state 73,the training accuracy is:- 0.7475615631933097\n",
      "At random state 73,the testing accuracy is:- 0.7623224022563388\n",
      "\n",
      "\n",
      "At random state 74,the training accuracy is:- 0.7475615631933097\n",
      "At random state 74,the testing accuracy is:- 0.7623224022563388\n",
      "\n",
      "\n",
      "At random state 75,the training accuracy is:- 0.7475615631933097\n",
      "At random state 75,the testing accuracy is:- 0.7623224022563388\n",
      "\n",
      "\n",
      "At random state 76,the training accuracy is:- 0.7475615631933097\n",
      "At random state 76,the testing accuracy is:- 0.7623224022563388\n",
      "\n",
      "\n",
      "At random state 77,the training accuracy is:- 0.7475615631933097\n",
      "At random state 77,the testing accuracy is:- 0.7623224022563388\n",
      "\n",
      "\n",
      "At random state 78,the training accuracy is:- 0.7475615631933097\n",
      "At random state 78,the testing accuracy is:- 0.7623224022563388\n",
      "\n",
      "\n",
      "At random state 79,the training accuracy is:- 0.7475615631933097\n",
      "At random state 79,the testing accuracy is:- 0.7623224022563388\n",
      "\n",
      "\n",
      "At random state 80,the training accuracy is:- 0.7475615631933097\n",
      "At random state 80,the testing accuracy is:- 0.7623224022563388\n",
      "\n",
      "\n",
      "At random state 81,the training accuracy is:- 0.7475615631933097\n",
      "At random state 81,the testing accuracy is:- 0.7623224022563388\n",
      "\n",
      "\n",
      "At random state 82,the training accuracy is:- 0.7475615631933097\n",
      "At random state 82,the testing accuracy is:- 0.7623224022563388\n",
      "\n",
      "\n",
      "At random state 83,the training accuracy is:- 0.7475615631933097\n",
      "At random state 83,the testing accuracy is:- 0.7623224022563388\n",
      "\n",
      "\n",
      "At random state 84,the training accuracy is:- 0.7475615631933097\n",
      "At random state 84,the testing accuracy is:- 0.7623224022563388\n",
      "\n",
      "\n",
      "At random state 85,the training accuracy is:- 0.7475615631933097\n",
      "At random state 85,the testing accuracy is:- 0.7623224022563388\n",
      "\n",
      "\n",
      "At random state 86,the training accuracy is:- 0.7475615631933097\n",
      "At random state 86,the testing accuracy is:- 0.7623224022563388\n",
      "\n",
      "\n",
      "At random state 87,the training accuracy is:- 0.7475615631933097\n",
      "At random state 87,the testing accuracy is:- 0.7623224022563388\n",
      "\n",
      "\n",
      "At random state 88,the training accuracy is:- 0.7475615631933097\n",
      "At random state 88,the testing accuracy is:- 0.7623224022563388\n",
      "\n",
      "\n",
      "At random state 89,the training accuracy is:- 0.7475615631933097\n",
      "At random state 89,the testing accuracy is:- 0.7623224022563388\n",
      "\n",
      "\n",
      "At random state 90,the training accuracy is:- 0.7475615631933097\n",
      "At random state 90,the testing accuracy is:- 0.7623224022563388\n",
      "\n",
      "\n",
      "At random state 91,the training accuracy is:- 0.7475615631933097\n",
      "At random state 91,the testing accuracy is:- 0.7623224022563388\n",
      "\n",
      "\n",
      "At random state 92,the training accuracy is:- 0.7475615631933097\n",
      "At random state 92,the testing accuracy is:- 0.7623224022563388\n",
      "\n",
      "\n",
      "At random state 93,the training accuracy is:- 0.7475615631933097\n",
      "At random state 93,the testing accuracy is:- 0.7623224022563388\n",
      "\n",
      "\n",
      "At random state 94,the training accuracy is:- 0.7475615631933097\n",
      "At random state 94,the testing accuracy is:- 0.7623224022563388\n",
      "\n",
      "\n",
      "At random state 95,the training accuracy is:- 0.7475615631933097\n",
      "At random state 95,the testing accuracy is:- 0.7623224022563388\n",
      "\n",
      "\n",
      "At random state 96,the training accuracy is:- 0.7475615631933097\n",
      "At random state 96,the testing accuracy is:- 0.7623224022563388\n",
      "\n",
      "\n",
      "At random state 97,the training accuracy is:- 0.7475615631933097\n",
      "At random state 97,the testing accuracy is:- 0.7623224022563388\n",
      "\n",
      "\n",
      "At random state 98,the training accuracy is:- 0.7475615631933097\n",
      "At random state 98,the testing accuracy is:- 0.7623224022563388\n",
      "\n",
      "\n",
      "At random state 99,the training accuracy is:- 0.7475615631933097\n",
      "At random state 99,the testing accuracy is:- 0.7623224022563388\n",
      "\n",
      "\n"
     ]
    }
   ],
   "source": [
    "for i in range(0,100):\n",
    "    features_train,features_test,target_train,target_test=train_test_split(features,target,test_size=0.2,random_state=1)\n",
    "    lr.fit(features_train,target_train)\n",
    "    pred_train=lr.predict(features_train)\n",
    "    pred_test=lr.predict(features_test)\n",
    "    print(f'At random state {i},the training accuracy is:- {r2_score(target_train,pred_train)}')\n",
    "    print(f'At random state {i},the testing accuracy is:- {r2_score(target_test,pred_test)}')\n",
    "    print('\\n')"
   ]
  },
  {
   "cell_type": "code",
   "execution_count": 45,
   "id": "ad9998ef",
   "metadata": {},
   "outputs": [],
   "source": [
    "features_train,features_test,target_train,target_test=train_test_split(features,target,test_size=0.2,random_state=12)"
   ]
  },
  {
   "cell_type": "code",
   "execution_count": 46,
   "id": "26101700",
   "metadata": {},
   "outputs": [
    {
     "data": {
      "text/html": [
       "<style>#sk-container-id-1 {color: black;background-color: white;}#sk-container-id-1 pre{padding: 0;}#sk-container-id-1 div.sk-toggleable {background-color: white;}#sk-container-id-1 label.sk-toggleable__label {cursor: pointer;display: block;width: 100%;margin-bottom: 0;padding: 0.3em;box-sizing: border-box;text-align: center;}#sk-container-id-1 label.sk-toggleable__label-arrow:before {content: \"▸\";float: left;margin-right: 0.25em;color: #696969;}#sk-container-id-1 label.sk-toggleable__label-arrow:hover:before {color: black;}#sk-container-id-1 div.sk-estimator:hover label.sk-toggleable__label-arrow:before {color: black;}#sk-container-id-1 div.sk-toggleable__content {max-height: 0;max-width: 0;overflow: hidden;text-align: left;background-color: #f0f8ff;}#sk-container-id-1 div.sk-toggleable__content pre {margin: 0.2em;color: black;border-radius: 0.25em;background-color: #f0f8ff;}#sk-container-id-1 input.sk-toggleable__control:checked~div.sk-toggleable__content {max-height: 200px;max-width: 100%;overflow: auto;}#sk-container-id-1 input.sk-toggleable__control:checked~label.sk-toggleable__label-arrow:before {content: \"▾\";}#sk-container-id-1 div.sk-estimator input.sk-toggleable__control:checked~label.sk-toggleable__label {background-color: #d4ebff;}#sk-container-id-1 div.sk-label input.sk-toggleable__control:checked~label.sk-toggleable__label {background-color: #d4ebff;}#sk-container-id-1 input.sk-hidden--visually {border: 0;clip: rect(1px 1px 1px 1px);clip: rect(1px, 1px, 1px, 1px);height: 1px;margin: -1px;overflow: hidden;padding: 0;position: absolute;width: 1px;}#sk-container-id-1 div.sk-estimator {font-family: monospace;background-color: #f0f8ff;border: 1px dotted black;border-radius: 0.25em;box-sizing: border-box;margin-bottom: 0.5em;}#sk-container-id-1 div.sk-estimator:hover {background-color: #d4ebff;}#sk-container-id-1 div.sk-parallel-item::after {content: \"\";width: 100%;border-bottom: 1px solid gray;flex-grow: 1;}#sk-container-id-1 div.sk-label:hover label.sk-toggleable__label {background-color: #d4ebff;}#sk-container-id-1 div.sk-serial::before {content: \"\";position: absolute;border-left: 1px solid gray;box-sizing: border-box;top: 0;bottom: 0;left: 50%;z-index: 0;}#sk-container-id-1 div.sk-serial {display: flex;flex-direction: column;align-items: center;background-color: white;padding-right: 0.2em;padding-left: 0.2em;position: relative;}#sk-container-id-1 div.sk-item {position: relative;z-index: 1;}#sk-container-id-1 div.sk-parallel {display: flex;align-items: stretch;justify-content: center;background-color: white;position: relative;}#sk-container-id-1 div.sk-item::before, #sk-container-id-1 div.sk-parallel-item::before {content: \"\";position: absolute;border-left: 1px solid gray;box-sizing: border-box;top: 0;bottom: 0;left: 50%;z-index: -1;}#sk-container-id-1 div.sk-parallel-item {display: flex;flex-direction: column;z-index: 1;position: relative;background-color: white;}#sk-container-id-1 div.sk-parallel-item:first-child::after {align-self: flex-end;width: 50%;}#sk-container-id-1 div.sk-parallel-item:last-child::after {align-self: flex-start;width: 50%;}#sk-container-id-1 div.sk-parallel-item:only-child::after {width: 0;}#sk-container-id-1 div.sk-dashed-wrapped {border: 1px dashed gray;margin: 0 0.4em 0.5em 0.4em;box-sizing: border-box;padding-bottom: 0.4em;background-color: white;}#sk-container-id-1 div.sk-label label {font-family: monospace;font-weight: bold;display: inline-block;line-height: 1.2em;}#sk-container-id-1 div.sk-label-container {text-align: center;}#sk-container-id-1 div.sk-container {/* jupyter's `normalize.less` sets `[hidden] { display: none; }` but bootstrap.min.css set `[hidden] { display: none !important; }` so we also need the `!important` here to be able to override the default hidden behavior on the sphinx rendered scikit-learn.org. See: https://github.com/scikit-learn/scikit-learn/issues/21755 */display: inline-block !important;position: relative;}#sk-container-id-1 div.sk-text-repr-fallback {display: none;}</style><div id=\"sk-container-id-1\" class=\"sk-top-container\"><div class=\"sk-text-repr-fallback\"><pre>LinearRegression()</pre><b>In a Jupyter environment, please rerun this cell to show the HTML representation or trust the notebook. <br />On GitHub, the HTML representation is unable to render, please try loading this page with nbviewer.org.</b></div><div class=\"sk-container\" hidden><div class=\"sk-item\"><div class=\"sk-estimator sk-toggleable\"><input class=\"sk-toggleable__control sk-hidden--visually\" id=\"sk-estimator-id-1\" type=\"checkbox\" checked><label for=\"sk-estimator-id-1\" class=\"sk-toggleable__label sk-toggleable__label-arrow\">LinearRegression</label><div class=\"sk-toggleable__content\"><pre>LinearRegression()</pre></div></div></div></div></div>"
      ],
      "text/plain": [
       "LinearRegression()"
      ]
     },
     "execution_count": 46,
     "metadata": {},
     "output_type": "execute_result"
    }
   ],
   "source": [
    "lr.fit(features_train,target_train)"
   ]
  },
  {
   "cell_type": "code",
   "execution_count": 47,
   "id": "82ad9f5d",
   "metadata": {},
   "outputs": [],
   "source": [
    "pred_test=lr.predict(features_test)"
   ]
  },
  {
   "cell_type": "code",
   "execution_count": 48,
   "id": "fb054efe",
   "metadata": {},
   "outputs": [
    {
     "name": "stdout",
     "output_type": "stream",
     "text": [
      "0.7096380405273459\n"
     ]
    }
   ],
   "source": [
    "print(r2_score(target_test,pred_test))"
   ]
  },
  {
   "cell_type": "markdown",
   "id": "9c6d55d8",
   "metadata": {},
   "source": [
    "Cross validation of the model-"
   ]
  },
  {
   "cell_type": "code",
   "execution_count": 49,
   "id": "8bc9d860",
   "metadata": {},
   "outputs": [
    {
     "name": "stdout",
     "output_type": "stream",
     "text": [
      "At cross fold 2 the cv score is 0.7486033254037108 and accuracy score for training is -0.773421359352062 and accuracy for the testing is 0.7096380405273459\n",
      "\n",
      "\n",
      "At cross fold 3 the cv score is 0.7448455049684157 and accuracy score for training is -0.773421359352062 and accuracy for the testing is 0.7096380405273459\n",
      "\n",
      "\n",
      "At cross fold 4 the cv score is 0.7465374465214437 and accuracy score for training is -0.773421359352062 and accuracy for the testing is 0.7096380405273459\n",
      "\n",
      "\n",
      "At cross fold 5 the cv score is 0.7472559473580954 and accuracy score for training is -0.773421359352062 and accuracy for the testing is 0.7096380405273459\n",
      "\n",
      "\n",
      "At cross fold 6 the cv score is 0.7458863313669323 and accuracy score for training is -0.773421359352062 and accuracy for the testing is 0.7096380405273459\n",
      "\n",
      "\n",
      "At cross fold 7 the cv score is 0.7452991860582022 and accuracy score for training is -0.773421359352062 and accuracy for the testing is 0.7096380405273459\n",
      "\n",
      "\n",
      "At cross fold 8 the cv score is 0.7430633572874523 and accuracy score for training is -0.773421359352062 and accuracy for the testing is 0.7096380405273459\n",
      "\n",
      "\n",
      "At cross fold 9 the cv score is 0.7432123565964318 and accuracy score for training is -0.773421359352062 and accuracy for the testing is 0.7096380405273459\n",
      "\n",
      "\n"
     ]
    }
   ],
   "source": [
    "Train_accuracy=r2_score(target_train,pred_train)\n",
    "Test_accuracy=r2_score(target_test,pred_test)\n",
    "from sklearn.model_selection import cross_val_score\n",
    "for j in range(2,10):\n",
    "    cv_score=cross_val_score(lr,features,target,cv=j)\n",
    "    cv_mean=cv_score.mean()\n",
    "    print(f'At cross fold {j} the cv score is {cv_mean} and accuracy score for training is {Train_accuracy} and accuracy for the testing is {Test_accuracy}')\n",
    "    print('\\n')"
   ]
  },
  {
   "cell_type": "markdown",
   "id": "658e9847",
   "metadata": {},
   "source": [
    "Here, we have handled the problem of the overfitting and the underfitting by checking the training and testing score."
   ]
  },
  {
   "cell_type": "code",
   "execution_count": 50,
   "id": "d8c3fd05",
   "metadata": {},
   "outputs": [
    {
     "data": {
      "image/png": "[encoded data removed]",
      "text/plain": [
       "<Figure size 576x432 with 1 Axes>"
      ]
     },
     "metadata": {
      "needs_background": "light"
     },
     "output_type": "display_data"
    }
   ],
   "source": [
    "plt.figure(figsize=(8,6))\n",
    "plt.scatter(x=target_test,y=pred_test,color='r')\n",
    "plt.plot(target_test,target_test,color='b')\n",
    "plt.xlabel('Actual charges',fontsize=14)\n",
    "plt.ylabel('Predicted charges',fontsize=14)\n",
    "plt.title('Linear Regression',fontsize=14)\n",
    "plt.savefig('lr.png')\n",
    "plt.show()"
   ]
  },
  {
   "cell_type": "markdown",
   "id": "a764def4",
   "metadata": {},
   "source": [
    "Best fit line is covering most of the datapoints which shows good fit of our model.\n",
    "Equation of the line is: y=mx+c"
   ]
  },
  {
   "cell_type": "markdown",
   "id": "21f98ec5",
   "metadata": {},
   "source": [
    "Regularization-"
   ]
  },
  {
   "cell_type": "code",
   "execution_count": 51,
   "id": "a8cae6a7",
   "metadata": {},
   "outputs": [
    {
     "name": "stdout",
     "output_type": "stream",
     "text": [
      "{'alpha': 10, 'random_state': 0}\n"
     ]
    }
   ],
   "source": [
    "from sklearn.model_selection import GridSearchCV\n",
    "from sklearn.linear_model import Lasso\n",
    "parameters={'alpha': [.0001, .001, .01, .1, 1, 10],\n",
    "           'random_state':list(range(0,10))}\n",
    "ls=Lasso()\n",
    "clf= GridSearchCV(ls,parameters)\n",
    "clf.fit(features_train,target_train)\n",
    "print(clf.best_params_)"
   ]
  },
  {
   "cell_type": "markdown",
   "id": "07d952db",
   "metadata": {},
   "source": [
    "Final model training-"
   ]
  },
  {
   "cell_type": "code",
   "execution_count": 52,
   "id": "3fb1585a",
   "metadata": {},
   "outputs": [
    {
     "data": {
      "text/plain": [
       "76.04260899433596"
      ]
     },
     "execution_count": 52,
     "metadata": {},
     "output_type": "execute_result"
    }
   ],
   "source": [
    "ls=Lasso(alpha=1,random_state=0)\n",
    "ls.fit(features_train,target_train)\n",
    "ls_score_training=ls.score(features_train,target_train)\n",
    "pred_ls=ls.predict(features_test)\n",
    "ls_score_training*100"
   ]
  },
  {
   "cell_type": "markdown",
   "id": "88391fb3",
   "metadata": {},
   "source": [
    "Ensemble technique-"
   ]
  },
  {
   "cell_type": "code",
   "execution_count": 53,
   "id": "8f373ad5",
   "metadata": {},
   "outputs": [],
   "source": [
    "from sklearn.model_selection import GridSearchCV\n",
    "from sklearn.ensemble import RandomForestRegressor"
   ]
  },
  {
   "cell_type": "code",
   "execution_count": 54,
   "id": "1892e9f2",
   "metadata": {},
   "outputs": [
    {
     "name": "stdout",
     "output_type": "stream",
     "text": [
      "{'criterion': 'mae', 'max_features': 'sqrt'}\n"
     ]
    }
   ],
   "source": [
    "parameters={'criterion': ['mse','mae'],\n",
    "           'max_features':['auto','sqrt','log2']}\n",
    "rf=RandomForestRegressor()\n",
    "clf= GridSearchCV(rf,parameters)\n",
    "clf.fit(features_train,target_train)\n",
    "print(clf.best_params_)"
   ]
  },
  {
   "cell_type": "code",
   "execution_count": 55,
   "id": "515c7a1c",
   "metadata": {},
   "outputs": [],
   "source": [
    "from sklearn.model_selection import cross_val_score"
   ]
  },
  {
   "cell_type": "code",
   "execution_count": 56,
   "id": "b81c807c",
   "metadata": {},
   "outputs": [
    {
     "name": "stdout",
     "output_type": "stream",
     "text": [
      "R2 Score: 81.72921487136992\n",
      "Cross val score: 84.13001223964513\n"
     ]
    }
   ],
   "source": [
    "rf=RandomForestRegressor(criterion='mae',max_features='sqrt')\n",
    "rf.fit(features_train,target_train)\n",
    "rf.score(features_train,target_train)\n",
    "pred_decision= rf.predict(features_test)\n",
    "rfs=r2_score(target_test,pred_decision)\n",
    "print('R2 Score:',rfs*100)\n",
    "rfscore=cross_val_score(rf,features,target,cv=5)\n",
    "rfc= rfscore.mean()\n",
    "print('Cross val score:',rfc*100)"
   ]
  },
  {
   "cell_type": "markdown",
   "id": "736b11aa",
   "metadata": {},
   "source": [
    "We are getting model accuracy and cross validation both above 80% which shows our model is performing good."
   ]
  },
  {
   "cell_type": "markdown",
   "id": "6ba271f2",
   "metadata": {},
   "source": [
    "Saving the file-"
   ]
  },
  {
   "cell_type": "code",
   "execution_count": 57,
   "id": "d49f116f",
   "metadata": {},
   "outputs": [],
   "source": [
    "import pickle\n",
    "filename='charges.pkl'\n",
    "pickle.dump(rf, open(filename, 'wb'))"
   ]
  },
  {
   "cell_type": "markdown",
   "id": "3ed0d252",
   "metadata": {},
   "source": [
    "Conclusion-"
   ]
  },
  {
   "cell_type": "code",
   "execution_count": 58,
   "id": "c50769a6",
   "metadata": {},
   "outputs": [
    {
     "name": "stdout",
     "output_type": "stream",
     "text": [
      "81.72921487136992\n"
     ]
    }
   ],
   "source": [
    "loaded_model=pickle.load(open('charges.pkl','rb'))\n",
    "result=loaded_model.score(features_test,target_test)\n",
    "print(result*100)"
   ]
  },
  {
   "cell_type": "code",
   "execution_count": 59,
   "id": "6c8a9e8a",
   "metadata": {},
   "outputs": [
    {
     "data": {
      "text/html": [
       "<div>\n",
       "<style scoped>\n",
       "    .dataframe tbody tr th:only-of-type {\n",
       "        vertical-align: middle;\n",
       "    }\n",
       "\n",
       "    .dataframe tbody tr th {\n",
       "        vertical-align: top;\n",
       "    }\n",
       "\n",
       "    .dataframe thead th {\n",
       "        text-align: right;\n",
       "    }\n",
       "</style>\n",
       "<table border=\"1\" class=\"dataframe\">\n",
       "  <thead>\n",
       "    <tr style=\"text-align: right;\">\n",
       "      <th></th>\n",
       "      <th>0</th>\n",
       "      <th>1</th>\n",
       "      <th>2</th>\n",
       "      <th>3</th>\n",
       "      <th>4</th>\n",
       "      <th>5</th>\n",
       "      <th>6</th>\n",
       "      <th>7</th>\n",
       "      <th>8</th>\n",
       "      <th>9</th>\n",
       "      <th>...</th>\n",
       "      <th>258</th>\n",
       "      <th>259</th>\n",
       "      <th>260</th>\n",
       "      <th>261</th>\n",
       "      <th>262</th>\n",
       "      <th>263</th>\n",
       "      <th>264</th>\n",
       "      <th>265</th>\n",
       "      <th>266</th>\n",
       "      <th>267</th>\n",
       "    </tr>\n",
       "  </thead>\n",
       "  <tbody>\n",
       "    <tr>\n",
       "      <th>Predicted</th>\n",
       "      <td>8641.080656</td>\n",
       "      <td>2650.903164</td>\n",
       "      <td>22697.974571</td>\n",
       "      <td>10136.040706</td>\n",
       "      <td>2759.240984</td>\n",
       "      <td>4210.900044</td>\n",
       "      <td>4432.170441</td>\n",
       "      <td>13972.802775</td>\n",
       "      <td>7054.115878</td>\n",
       "      <td>38304.153389</td>\n",
       "      <td>...</td>\n",
       "      <td>5224.300891</td>\n",
       "      <td>40077.058158</td>\n",
       "      <td>11748.266145</td>\n",
       "      <td>12805.443808</td>\n",
       "      <td>6231.819671</td>\n",
       "      <td>22992.759096</td>\n",
       "      <td>5818.606497</td>\n",
       "      <td>13671.060976</td>\n",
       "      <td>13532.013774</td>\n",
       "      <td>13675.223098</td>\n",
       "    </tr>\n",
       "    <tr>\n",
       "      <th>Original</th>\n",
       "      <td>8641.080656</td>\n",
       "      <td>2650.903164</td>\n",
       "      <td>22697.974571</td>\n",
       "      <td>10136.040706</td>\n",
       "      <td>2759.240984</td>\n",
       "      <td>4210.900044</td>\n",
       "      <td>4432.170441</td>\n",
       "      <td>13972.802775</td>\n",
       "      <td>7054.115878</td>\n",
       "      <td>38304.153389</td>\n",
       "      <td>...</td>\n",
       "      <td>5224.300891</td>\n",
       "      <td>40077.058158</td>\n",
       "      <td>11748.266145</td>\n",
       "      <td>12805.443808</td>\n",
       "      <td>6231.819671</td>\n",
       "      <td>22992.759096</td>\n",
       "      <td>5818.606497</td>\n",
       "      <td>13671.060976</td>\n",
       "      <td>13532.013774</td>\n",
       "      <td>13675.223098</td>\n",
       "    </tr>\n",
       "  </tbody>\n",
       "</table>\n",
       "<p>2 rows × 268 columns</p>\n",
       "</div>"
      ],
      "text/plain": [
       "                   0            1             2             3            4    \\\n",
       "Predicted  8641.080656  2650.903164  22697.974571  10136.040706  2759.240984   \n",
       "Original   8641.080656  2650.903164  22697.974571  10136.040706  2759.240984   \n",
       "\n",
       "                   5            6             7            8             9    \\\n",
       "Predicted  4210.900044  4432.170441  13972.802775  7054.115878  38304.153389   \n",
       "Original   4210.900044  4432.170441  13972.802775  7054.115878  38304.153389   \n",
       "\n",
       "           ...          258           259           260           261  \\\n",
       "Predicted  ...  5224.300891  40077.058158  11748.266145  12805.443808   \n",
       "Original   ...  5224.300891  40077.058158  11748.266145  12805.443808   \n",
       "\n",
       "                   262           263          264           265           266  \\\n",
       "Predicted  6231.819671  22992.759096  5818.606497  13671.060976  13532.013774   \n",
       "Original   6231.819671  22992.759096  5818.606497  13671.060976  13532.013774   \n",
       "\n",
       "                    267  \n",
       "Predicted  13675.223098  \n",
       "Original   13675.223098  \n",
       "\n",
       "[2 rows x 268 columns]"
      ]
     },
     "execution_count": 59,
     "metadata": {},
     "output_type": "execute_result"
    }
   ],
   "source": [
    "conclusion=pd.DataFrame([loaded_model.predict(features_test)[:],pred_decision[:]],index=['Predicted','Original'])\n",
    "conclusion"
   ]
  },
  {
   "cell_type": "markdown",
   "id": "7cd82552",
   "metadata": {},
   "source": [
    "THE END"
   ]
  },
  {
   "cell_type": "code",
   "execution_count": null,
   "id": "75a3196c",
   "metadata": {},
   "outputs": [],
   "source": []
  }
 ],
 "metadata": {
  "kernelspec": {
   "display_name": "Python 3 (ipykernel)",
   "language": "python",
   "name": "python3"
  },
  "language_info": {
   "codemirror_mode": {
    "name": "ipython",
    "version": 3
   },
   "file_extension": ".py",
   "mimetype": "text/x-python",
   "name": "python",
   "nbconvert_exporter": "python",
   "pygments_lexer": "ipython3",
   "version": "3.9.12"
  }
 },
 "nbformat": 4,
 "nbformat_minor": 5
}
